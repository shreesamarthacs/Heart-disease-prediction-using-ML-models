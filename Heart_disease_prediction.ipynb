{
  "metadata": {
    "colab": {
      "provenance": [],
      "gpuType": "T4"
    },
    "kernelspec": {
      "name": "python3",
      "display_name": "Python 3"
    },
    "language_info": {
      "name": "python",
      "version": "3.10.13",
      "mimetype": "text/x-python",
      "codemirror_mode": {
        "name": "ipython",
        "version": 3
      },
      "pygments_lexer": "ipython3",
      "nbconvert_exporter": "python",
      "file_extension": ".py"
    },
    "kaggle": {
      "accelerator": "nvidiaTeslaT4",
      "dataSources": [
        {
          "sourceId": 2603715,
          "sourceType": "datasetVersion",
          "datasetId": 1582403
        }
      ],
      "dockerImageVersionId": 30747,
      "isInternetEnabled": true,
      "language": "python",
      "sourceType": "notebook",
      "isGpuEnabled": true
    },
    "accelerator": "GPU"
  },
  "nbformat_minor": 0,
  "nbformat": 4,
  "cells": [
    {
      "cell_type": "code",
      "source": [
        "# Importing necessary modules\n",
        "import numpy as np\n",
        "import pandas as pd\n",
        "from sklearn.preprocessing import StandardScaler\n",
        "from sklearn.model_selection import train_test_split\n",
        "import seaborn as sns\n",
        "import matplotlib.pyplot as plt\n",
        "import pickle\n",
        "%matplotlib inline"
      ],
      "metadata": {
        "id": "cvbq6qpHBnDN",
        "execution": {
          "iopub.status.busy": "2024-08-02T12:37:40.723476Z",
          "iopub.execute_input": "2024-08-02T12:37:40.723876Z",
          "iopub.status.idle": "2024-08-02T12:37:40.730957Z",
          "shell.execute_reply.started": "2024-08-02T12:37:40.723837Z",
          "shell.execute_reply": "2024-08-02T12:37:40.729681Z"
        },
        "trusted": true
      },
      "execution_count": 2,
      "outputs": []
    },
    {
      "cell_type": "code",
      "source": [],
      "metadata": {
        "id": "ZDdgmS_MHTMK"
      },
      "execution_count": 26,
      "outputs": []
    },
    {
      "cell_type": "markdown",
      "source": [
        "# Data collection and preprocessing"
      ],
      "metadata": {
        "id": "lu2N26FwChd9"
      }
    },
    {
      "cell_type": "code",
      "source": [
        "#loading the data\n",
        "dataset=pd.read_csv('/content/heart.xls')"
      ],
      "metadata": {
        "id": "YKHFTusLCzZA",
        "execution": {
          "iopub.status.busy": "2024-08-02T12:37:40.732716Z",
          "iopub.execute_input": "2024-08-02T12:37:40.733020Z",
          "iopub.status.idle": "2024-08-02T12:37:40.757273Z",
          "shell.execute_reply.started": "2024-08-02T12:37:40.732994Z",
          "shell.execute_reply": "2024-08-02T12:37:40.756208Z"
        },
        "trusted": true
      },
      "execution_count": 3,
      "outputs": []
    },
    {
      "cell_type": "code",
      "source": [
        "dataset.head(30)"
      ],
      "metadata": {
        "colab": {
          "base_uri": "https://localhost:8080/",
          "height": 991
        },
        "id": "mp0S5EweDSrS",
        "outputId": "91bafa85-39d8-4714-9bbc-bea03d9bfe14",
        "execution": {
          "iopub.status.busy": "2024-08-02T12:37:40.759106Z",
          "iopub.execute_input": "2024-08-02T12:37:40.759465Z",
          "iopub.status.idle": "2024-08-02T12:37:40.774931Z",
          "shell.execute_reply.started": "2024-08-02T12:37:40.759439Z",
          "shell.execute_reply": "2024-08-02T12:37:40.773930Z"
        },
        "trusted": true
      },
      "execution_count": 4,
      "outputs": [
        {
          "output_type": "execute_result",
          "data": {
            "text/plain": [
              "    Age Sex ChestPainType  RestingBP  Cholesterol  FastingBS RestingECG  \\\n",
              "0    40   M           ATA        140          289          0     Normal   \n",
              "1    49   F           NAP        160          180          0     Normal   \n",
              "2    37   M           ATA        130          283          0         ST   \n",
              "3    48   F           ASY        138          214          0     Normal   \n",
              "4    54   M           NAP        150          195          0     Normal   \n",
              "5    39   M           NAP        120          339          0     Normal   \n",
              "6    45   F           ATA        130          237          0     Normal   \n",
              "7    54   M           ATA        110          208          0     Normal   \n",
              "8    37   M           ASY        140          207          0     Normal   \n",
              "9    48   F           ATA        120          284          0     Normal   \n",
              "10   37   F           NAP        130          211          0     Normal   \n",
              "11   58   M           ATA        136          164          0         ST   \n",
              "12   39   M           ATA        120          204          0     Normal   \n",
              "13   49   M           ASY        140          234          0     Normal   \n",
              "14   42   F           NAP        115          211          0         ST   \n",
              "15   54   F           ATA        120          273          0     Normal   \n",
              "16   38   M           ASY        110          196          0     Normal   \n",
              "17   43   F           ATA        120          201          0     Normal   \n",
              "18   60   M           ASY        100          248          0     Normal   \n",
              "19   36   M           ATA        120          267          0     Normal   \n",
              "20   43   F            TA        100          223          0     Normal   \n",
              "21   44   M           ATA        120          184          0     Normal   \n",
              "22   49   F           ATA        124          201          0     Normal   \n",
              "23   44   M           ATA        150          288          0     Normal   \n",
              "24   40   M           NAP        130          215          0     Normal   \n",
              "25   36   M           NAP        130          209          0     Normal   \n",
              "26   53   M           ASY        124          260          0         ST   \n",
              "27   52   M           ATA        120          284          0     Normal   \n",
              "28   53   F           ATA        113          468          0     Normal   \n",
              "29   51   M           ATA        125          188          0     Normal   \n",
              "\n",
              "    MaxHR ExerciseAngina  Oldpeak ST_Slope  HeartDisease  \n",
              "0     172              N      0.0       Up             0  \n",
              "1     156              N      1.0     Flat             1  \n",
              "2      98              N      0.0       Up             0  \n",
              "3     108              Y      1.5     Flat             1  \n",
              "4     122              N      0.0       Up             0  \n",
              "5     170              N      0.0       Up             0  \n",
              "6     170              N      0.0       Up             0  \n",
              "7     142              N      0.0       Up             0  \n",
              "8     130              Y      1.5     Flat             1  \n",
              "9     120              N      0.0       Up             0  \n",
              "10    142              N      0.0       Up             0  \n",
              "11     99              Y      2.0     Flat             1  \n",
              "12    145              N      0.0       Up             0  \n",
              "13    140              Y      1.0     Flat             1  \n",
              "14    137              N      0.0       Up             0  \n",
              "15    150              N      1.5     Flat             0  \n",
              "16    166              N      0.0     Flat             1  \n",
              "17    165              N      0.0       Up             0  \n",
              "18    125              N      1.0     Flat             1  \n",
              "19    160              N      3.0     Flat             1  \n",
              "20    142              N      0.0       Up             0  \n",
              "21    142              N      1.0     Flat             0  \n",
              "22    164              N      0.0       Up             0  \n",
              "23    150              Y      3.0     Flat             1  \n",
              "24    138              N      0.0       Up             0  \n",
              "25    178              N      0.0       Up             0  \n",
              "26    112              Y      3.0     Flat             0  \n",
              "27    118              N      0.0       Up             0  \n",
              "28    127              N      0.0       Up             0  \n",
              "29    145              N      0.0       Up             0  "
            ],
            "text/html": [
              "\n",
              "  <div id=\"df-8e05ce8c-3875-4ca2-9243-f2140e6aba00\" class=\"colab-df-container\">\n",
              "    <div>\n",
              "<style scoped>\n",
              "    .dataframe tbody tr th:only-of-type {\n",
              "        vertical-align: middle;\n",
              "    }\n",
              "\n",
              "    .dataframe tbody tr th {\n",
              "        vertical-align: top;\n",
              "    }\n",
              "\n",
              "    .dataframe thead th {\n",
              "        text-align: right;\n",
              "    }\n",
              "</style>\n",
              "<table border=\"1\" class=\"dataframe\">\n",
              "  <thead>\n",
              "    <tr style=\"text-align: right;\">\n",
              "      <th></th>\n",
              "      <th>Age</th>\n",
              "      <th>Sex</th>\n",
              "      <th>ChestPainType</th>\n",
              "      <th>RestingBP</th>\n",
              "      <th>Cholesterol</th>\n",
              "      <th>FastingBS</th>\n",
              "      <th>RestingECG</th>\n",
              "      <th>MaxHR</th>\n",
              "      <th>ExerciseAngina</th>\n",
              "      <th>Oldpeak</th>\n",
              "      <th>ST_Slope</th>\n",
              "      <th>HeartDisease</th>\n",
              "    </tr>\n",
              "  </thead>\n",
              "  <tbody>\n",
              "    <tr>\n",
              "      <th>0</th>\n",
              "      <td>40</td>\n",
              "      <td>M</td>\n",
              "      <td>ATA</td>\n",
              "      <td>140</td>\n",
              "      <td>289</td>\n",
              "      <td>0</td>\n",
              "      <td>Normal</td>\n",
              "      <td>172</td>\n",
              "      <td>N</td>\n",
              "      <td>0.0</td>\n",
              "      <td>Up</td>\n",
              "      <td>0</td>\n",
              "    </tr>\n",
              "    <tr>\n",
              "      <th>1</th>\n",
              "      <td>49</td>\n",
              "      <td>F</td>\n",
              "      <td>NAP</td>\n",
              "      <td>160</td>\n",
              "      <td>180</td>\n",
              "      <td>0</td>\n",
              "      <td>Normal</td>\n",
              "      <td>156</td>\n",
              "      <td>N</td>\n",
              "      <td>1.0</td>\n",
              "      <td>Flat</td>\n",
              "      <td>1</td>\n",
              "    </tr>\n",
              "    <tr>\n",
              "      <th>2</th>\n",
              "      <td>37</td>\n",
              "      <td>M</td>\n",
              "      <td>ATA</td>\n",
              "      <td>130</td>\n",
              "      <td>283</td>\n",
              "      <td>0</td>\n",
              "      <td>ST</td>\n",
              "      <td>98</td>\n",
              "      <td>N</td>\n",
              "      <td>0.0</td>\n",
              "      <td>Up</td>\n",
              "      <td>0</td>\n",
              "    </tr>\n",
              "    <tr>\n",
              "      <th>3</th>\n",
              "      <td>48</td>\n",
              "      <td>F</td>\n",
              "      <td>ASY</td>\n",
              "      <td>138</td>\n",
              "      <td>214</td>\n",
              "      <td>0</td>\n",
              "      <td>Normal</td>\n",
              "      <td>108</td>\n",
              "      <td>Y</td>\n",
              "      <td>1.5</td>\n",
              "      <td>Flat</td>\n",
              "      <td>1</td>\n",
              "    </tr>\n",
              "    <tr>\n",
              "      <th>4</th>\n",
              "      <td>54</td>\n",
              "      <td>M</td>\n",
              "      <td>NAP</td>\n",
              "      <td>150</td>\n",
              "      <td>195</td>\n",
              "      <td>0</td>\n",
              "      <td>Normal</td>\n",
              "      <td>122</td>\n",
              "      <td>N</td>\n",
              "      <td>0.0</td>\n",
              "      <td>Up</td>\n",
              "      <td>0</td>\n",
              "    </tr>\n",
              "    <tr>\n",
              "      <th>5</th>\n",
              "      <td>39</td>\n",
              "      <td>M</td>\n",
              "      <td>NAP</td>\n",
              "      <td>120</td>\n",
              "      <td>339</td>\n",
              "      <td>0</td>\n",
              "      <td>Normal</td>\n",
              "      <td>170</td>\n",
              "      <td>N</td>\n",
              "      <td>0.0</td>\n",
              "      <td>Up</td>\n",
              "      <td>0</td>\n",
              "    </tr>\n",
              "    <tr>\n",
              "      <th>6</th>\n",
              "      <td>45</td>\n",
              "      <td>F</td>\n",
              "      <td>ATA</td>\n",
              "      <td>130</td>\n",
              "      <td>237</td>\n",
              "      <td>0</td>\n",
              "      <td>Normal</td>\n",
              "      <td>170</td>\n",
              "      <td>N</td>\n",
              "      <td>0.0</td>\n",
              "      <td>Up</td>\n",
              "      <td>0</td>\n",
              "    </tr>\n",
              "    <tr>\n",
              "      <th>7</th>\n",
              "      <td>54</td>\n",
              "      <td>M</td>\n",
              "      <td>ATA</td>\n",
              "      <td>110</td>\n",
              "      <td>208</td>\n",
              "      <td>0</td>\n",
              "      <td>Normal</td>\n",
              "      <td>142</td>\n",
              "      <td>N</td>\n",
              "      <td>0.0</td>\n",
              "      <td>Up</td>\n",
              "      <td>0</td>\n",
              "    </tr>\n",
              "    <tr>\n",
              "      <th>8</th>\n",
              "      <td>37</td>\n",
              "      <td>M</td>\n",
              "      <td>ASY</td>\n",
              "      <td>140</td>\n",
              "      <td>207</td>\n",
              "      <td>0</td>\n",
              "      <td>Normal</td>\n",
              "      <td>130</td>\n",
              "      <td>Y</td>\n",
              "      <td>1.5</td>\n",
              "      <td>Flat</td>\n",
              "      <td>1</td>\n",
              "    </tr>\n",
              "    <tr>\n",
              "      <th>9</th>\n",
              "      <td>48</td>\n",
              "      <td>F</td>\n",
              "      <td>ATA</td>\n",
              "      <td>120</td>\n",
              "      <td>284</td>\n",
              "      <td>0</td>\n",
              "      <td>Normal</td>\n",
              "      <td>120</td>\n",
              "      <td>N</td>\n",
              "      <td>0.0</td>\n",
              "      <td>Up</td>\n",
              "      <td>0</td>\n",
              "    </tr>\n",
              "    <tr>\n",
              "      <th>10</th>\n",
              "      <td>37</td>\n",
              "      <td>F</td>\n",
              "      <td>NAP</td>\n",
              "      <td>130</td>\n",
              "      <td>211</td>\n",
              "      <td>0</td>\n",
              "      <td>Normal</td>\n",
              "      <td>142</td>\n",
              "      <td>N</td>\n",
              "      <td>0.0</td>\n",
              "      <td>Up</td>\n",
              "      <td>0</td>\n",
              "    </tr>\n",
              "    <tr>\n",
              "      <th>11</th>\n",
              "      <td>58</td>\n",
              "      <td>M</td>\n",
              "      <td>ATA</td>\n",
              "      <td>136</td>\n",
              "      <td>164</td>\n",
              "      <td>0</td>\n",
              "      <td>ST</td>\n",
              "      <td>99</td>\n",
              "      <td>Y</td>\n",
              "      <td>2.0</td>\n",
              "      <td>Flat</td>\n",
              "      <td>1</td>\n",
              "    </tr>\n",
              "    <tr>\n",
              "      <th>12</th>\n",
              "      <td>39</td>\n",
              "      <td>M</td>\n",
              "      <td>ATA</td>\n",
              "      <td>120</td>\n",
              "      <td>204</td>\n",
              "      <td>0</td>\n",
              "      <td>Normal</td>\n",
              "      <td>145</td>\n",
              "      <td>N</td>\n",
              "      <td>0.0</td>\n",
              "      <td>Up</td>\n",
              "      <td>0</td>\n",
              "    </tr>\n",
              "    <tr>\n",
              "      <th>13</th>\n",
              "      <td>49</td>\n",
              "      <td>M</td>\n",
              "      <td>ASY</td>\n",
              "      <td>140</td>\n",
              "      <td>234</td>\n",
              "      <td>0</td>\n",
              "      <td>Normal</td>\n",
              "      <td>140</td>\n",
              "      <td>Y</td>\n",
              "      <td>1.0</td>\n",
              "      <td>Flat</td>\n",
              "      <td>1</td>\n",
              "    </tr>\n",
              "    <tr>\n",
              "      <th>14</th>\n",
              "      <td>42</td>\n",
              "      <td>F</td>\n",
              "      <td>NAP</td>\n",
              "      <td>115</td>\n",
              "      <td>211</td>\n",
              "      <td>0</td>\n",
              "      <td>ST</td>\n",
              "      <td>137</td>\n",
              "      <td>N</td>\n",
              "      <td>0.0</td>\n",
              "      <td>Up</td>\n",
              "      <td>0</td>\n",
              "    </tr>\n",
              "    <tr>\n",
              "      <th>15</th>\n",
              "      <td>54</td>\n",
              "      <td>F</td>\n",
              "      <td>ATA</td>\n",
              "      <td>120</td>\n",
              "      <td>273</td>\n",
              "      <td>0</td>\n",
              "      <td>Normal</td>\n",
              "      <td>150</td>\n",
              "      <td>N</td>\n",
              "      <td>1.5</td>\n",
              "      <td>Flat</td>\n",
              "      <td>0</td>\n",
              "    </tr>\n",
              "    <tr>\n",
              "      <th>16</th>\n",
              "      <td>38</td>\n",
              "      <td>M</td>\n",
              "      <td>ASY</td>\n",
              "      <td>110</td>\n",
              "      <td>196</td>\n",
              "      <td>0</td>\n",
              "      <td>Normal</td>\n",
              "      <td>166</td>\n",
              "      <td>N</td>\n",
              "      <td>0.0</td>\n",
              "      <td>Flat</td>\n",
              "      <td>1</td>\n",
              "    </tr>\n",
              "    <tr>\n",
              "      <th>17</th>\n",
              "      <td>43</td>\n",
              "      <td>F</td>\n",
              "      <td>ATA</td>\n",
              "      <td>120</td>\n",
              "      <td>201</td>\n",
              "      <td>0</td>\n",
              "      <td>Normal</td>\n",
              "      <td>165</td>\n",
              "      <td>N</td>\n",
              "      <td>0.0</td>\n",
              "      <td>Up</td>\n",
              "      <td>0</td>\n",
              "    </tr>\n",
              "    <tr>\n",
              "      <th>18</th>\n",
              "      <td>60</td>\n",
              "      <td>M</td>\n",
              "      <td>ASY</td>\n",
              "      <td>100</td>\n",
              "      <td>248</td>\n",
              "      <td>0</td>\n",
              "      <td>Normal</td>\n",
              "      <td>125</td>\n",
              "      <td>N</td>\n",
              "      <td>1.0</td>\n",
              "      <td>Flat</td>\n",
              "      <td>1</td>\n",
              "    </tr>\n",
              "    <tr>\n",
              "      <th>19</th>\n",
              "      <td>36</td>\n",
              "      <td>M</td>\n",
              "      <td>ATA</td>\n",
              "      <td>120</td>\n",
              "      <td>267</td>\n",
              "      <td>0</td>\n",
              "      <td>Normal</td>\n",
              "      <td>160</td>\n",
              "      <td>N</td>\n",
              "      <td>3.0</td>\n",
              "      <td>Flat</td>\n",
              "      <td>1</td>\n",
              "    </tr>\n",
              "    <tr>\n",
              "      <th>20</th>\n",
              "      <td>43</td>\n",
              "      <td>F</td>\n",
              "      <td>TA</td>\n",
              "      <td>100</td>\n",
              "      <td>223</td>\n",
              "      <td>0</td>\n",
              "      <td>Normal</td>\n",
              "      <td>142</td>\n",
              "      <td>N</td>\n",
              "      <td>0.0</td>\n",
              "      <td>Up</td>\n",
              "      <td>0</td>\n",
              "    </tr>\n",
              "    <tr>\n",
              "      <th>21</th>\n",
              "      <td>44</td>\n",
              "      <td>M</td>\n",
              "      <td>ATA</td>\n",
              "      <td>120</td>\n",
              "      <td>184</td>\n",
              "      <td>0</td>\n",
              "      <td>Normal</td>\n",
              "      <td>142</td>\n",
              "      <td>N</td>\n",
              "      <td>1.0</td>\n",
              "      <td>Flat</td>\n",
              "      <td>0</td>\n",
              "    </tr>\n",
              "    <tr>\n",
              "      <th>22</th>\n",
              "      <td>49</td>\n",
              "      <td>F</td>\n",
              "      <td>ATA</td>\n",
              "      <td>124</td>\n",
              "      <td>201</td>\n",
              "      <td>0</td>\n",
              "      <td>Normal</td>\n",
              "      <td>164</td>\n",
              "      <td>N</td>\n",
              "      <td>0.0</td>\n",
              "      <td>Up</td>\n",
              "      <td>0</td>\n",
              "    </tr>\n",
              "    <tr>\n",
              "      <th>23</th>\n",
              "      <td>44</td>\n",
              "      <td>M</td>\n",
              "      <td>ATA</td>\n",
              "      <td>150</td>\n",
              "      <td>288</td>\n",
              "      <td>0</td>\n",
              "      <td>Normal</td>\n",
              "      <td>150</td>\n",
              "      <td>Y</td>\n",
              "      <td>3.0</td>\n",
              "      <td>Flat</td>\n",
              "      <td>1</td>\n",
              "    </tr>\n",
              "    <tr>\n",
              "      <th>24</th>\n",
              "      <td>40</td>\n",
              "      <td>M</td>\n",
              "      <td>NAP</td>\n",
              "      <td>130</td>\n",
              "      <td>215</td>\n",
              "      <td>0</td>\n",
              "      <td>Normal</td>\n",
              "      <td>138</td>\n",
              "      <td>N</td>\n",
              "      <td>0.0</td>\n",
              "      <td>Up</td>\n",
              "      <td>0</td>\n",
              "    </tr>\n",
              "    <tr>\n",
              "      <th>25</th>\n",
              "      <td>36</td>\n",
              "      <td>M</td>\n",
              "      <td>NAP</td>\n",
              "      <td>130</td>\n",
              "      <td>209</td>\n",
              "      <td>0</td>\n",
              "      <td>Normal</td>\n",
              "      <td>178</td>\n",
              "      <td>N</td>\n",
              "      <td>0.0</td>\n",
              "      <td>Up</td>\n",
              "      <td>0</td>\n",
              "    </tr>\n",
              "    <tr>\n",
              "      <th>26</th>\n",
              "      <td>53</td>\n",
              "      <td>M</td>\n",
              "      <td>ASY</td>\n",
              "      <td>124</td>\n",
              "      <td>260</td>\n",
              "      <td>0</td>\n",
              "      <td>ST</td>\n",
              "      <td>112</td>\n",
              "      <td>Y</td>\n",
              "      <td>3.0</td>\n",
              "      <td>Flat</td>\n",
              "      <td>0</td>\n",
              "    </tr>\n",
              "    <tr>\n",
              "      <th>27</th>\n",
              "      <td>52</td>\n",
              "      <td>M</td>\n",
              "      <td>ATA</td>\n",
              "      <td>120</td>\n",
              "      <td>284</td>\n",
              "      <td>0</td>\n",
              "      <td>Normal</td>\n",
              "      <td>118</td>\n",
              "      <td>N</td>\n",
              "      <td>0.0</td>\n",
              "      <td>Up</td>\n",
              "      <td>0</td>\n",
              "    </tr>\n",
              "    <tr>\n",
              "      <th>28</th>\n",
              "      <td>53</td>\n",
              "      <td>F</td>\n",
              "      <td>ATA</td>\n",
              "      <td>113</td>\n",
              "      <td>468</td>\n",
              "      <td>0</td>\n",
              "      <td>Normal</td>\n",
              "      <td>127</td>\n",
              "      <td>N</td>\n",
              "      <td>0.0</td>\n",
              "      <td>Up</td>\n",
              "      <td>0</td>\n",
              "    </tr>\n",
              "    <tr>\n",
              "      <th>29</th>\n",
              "      <td>51</td>\n",
              "      <td>M</td>\n",
              "      <td>ATA</td>\n",
              "      <td>125</td>\n",
              "      <td>188</td>\n",
              "      <td>0</td>\n",
              "      <td>Normal</td>\n",
              "      <td>145</td>\n",
              "      <td>N</td>\n",
              "      <td>0.0</td>\n",
              "      <td>Up</td>\n",
              "      <td>0</td>\n",
              "    </tr>\n",
              "  </tbody>\n",
              "</table>\n",
              "</div>\n",
              "    <div class=\"colab-df-buttons\">\n",
              "\n",
              "  <div class=\"colab-df-container\">\n",
              "    <button class=\"colab-df-convert\" onclick=\"convertToInteractive('df-8e05ce8c-3875-4ca2-9243-f2140e6aba00')\"\n",
              "            title=\"Convert this dataframe to an interactive table.\"\n",
              "            style=\"display:none;\">\n",
              "\n",
              "  <svg xmlns=\"http://www.w3.org/2000/svg\" height=\"24px\" viewBox=\"0 -960 960 960\">\n",
              "    <path d=\"M120-120v-720h720v720H120Zm60-500h600v-160H180v160Zm220 220h160v-160H400v160Zm0 220h160v-160H400v160ZM180-400h160v-160H180v160Zm440 0h160v-160H620v160ZM180-180h160v-160H180v160Zm440 0h160v-160H620v160Z\"/>\n",
              "  </svg>\n",
              "    </button>\n",
              "\n",
              "  <style>\n",
              "    .colab-df-container {\n",
              "      display:flex;\n",
              "      gap: 12px;\n",
              "    }\n",
              "\n",
              "    .colab-df-convert {\n",
              "      background-color: #E8F0FE;\n",
              "      border: none;\n",
              "      border-radius: 50%;\n",
              "      cursor: pointer;\n",
              "      display: none;\n",
              "      fill: #1967D2;\n",
              "      height: 32px;\n",
              "      padding: 0 0 0 0;\n",
              "      width: 32px;\n",
              "    }\n",
              "\n",
              "    .colab-df-convert:hover {\n",
              "      background-color: #E2EBFA;\n",
              "      box-shadow: 0px 1px 2px rgba(60, 64, 67, 0.3), 0px 1px 3px 1px rgba(60, 64, 67, 0.15);\n",
              "      fill: #174EA6;\n",
              "    }\n",
              "\n",
              "    .colab-df-buttons div {\n",
              "      margin-bottom: 4px;\n",
              "    }\n",
              "\n",
              "    [theme=dark] .colab-df-convert {\n",
              "      background-color: #3B4455;\n",
              "      fill: #D2E3FC;\n",
              "    }\n",
              "\n",
              "    [theme=dark] .colab-df-convert:hover {\n",
              "      background-color: #434B5C;\n",
              "      box-shadow: 0px 1px 3px 1px rgba(0, 0, 0, 0.15);\n",
              "      filter: drop-shadow(0px 1px 2px rgba(0, 0, 0, 0.3));\n",
              "      fill: #FFFFFF;\n",
              "    }\n",
              "  </style>\n",
              "\n",
              "    <script>\n",
              "      const buttonEl =\n",
              "        document.querySelector('#df-8e05ce8c-3875-4ca2-9243-f2140e6aba00 button.colab-df-convert');\n",
              "      buttonEl.style.display =\n",
              "        google.colab.kernel.accessAllowed ? 'block' : 'none';\n",
              "\n",
              "      async function convertToInteractive(key) {\n",
              "        const element = document.querySelector('#df-8e05ce8c-3875-4ca2-9243-f2140e6aba00');\n",
              "        const dataTable =\n",
              "          await google.colab.kernel.invokeFunction('convertToInteractive',\n",
              "                                                    [key], {});\n",
              "        if (!dataTable) return;\n",
              "\n",
              "        const docLinkHtml = 'Like what you see? Visit the ' +\n",
              "          '<a target=\"_blank\" href=https://colab.research.google.com/notebooks/data_table.ipynb>data table notebook</a>'\n",
              "          + ' to learn more about interactive tables.';\n",
              "        element.innerHTML = '';\n",
              "        dataTable['output_type'] = 'display_data';\n",
              "        await google.colab.output.renderOutput(dataTable, element);\n",
              "        const docLink = document.createElement('div');\n",
              "        docLink.innerHTML = docLinkHtml;\n",
              "        element.appendChild(docLink);\n",
              "      }\n",
              "    </script>\n",
              "  </div>\n",
              "\n",
              "\n",
              "<div id=\"df-b64e1ab6-3e19-40c8-91fe-e416e209facd\">\n",
              "  <button class=\"colab-df-quickchart\" onclick=\"quickchart('df-b64e1ab6-3e19-40c8-91fe-e416e209facd')\"\n",
              "            title=\"Suggest charts\"\n",
              "            style=\"display:none;\">\n",
              "\n",
              "<svg xmlns=\"http://www.w3.org/2000/svg\" height=\"24px\"viewBox=\"0 0 24 24\"\n",
              "     width=\"24px\">\n",
              "    <g>\n",
              "        <path d=\"M19 3H5c-1.1 0-2 .9-2 2v14c0 1.1.9 2 2 2h14c1.1 0 2-.9 2-2V5c0-1.1-.9-2-2-2zM9 17H7v-7h2v7zm4 0h-2V7h2v10zm4 0h-2v-4h2v4z\"/>\n",
              "    </g>\n",
              "</svg>\n",
              "  </button>\n",
              "\n",
              "<style>\n",
              "  .colab-df-quickchart {\n",
              "      --bg-color: #E8F0FE;\n",
              "      --fill-color: #1967D2;\n",
              "      --hover-bg-color: #E2EBFA;\n",
              "      --hover-fill-color: #174EA6;\n",
              "      --disabled-fill-color: #AAA;\n",
              "      --disabled-bg-color: #DDD;\n",
              "  }\n",
              "\n",
              "  [theme=dark] .colab-df-quickchart {\n",
              "      --bg-color: #3B4455;\n",
              "      --fill-color: #D2E3FC;\n",
              "      --hover-bg-color: #434B5C;\n",
              "      --hover-fill-color: #FFFFFF;\n",
              "      --disabled-bg-color: #3B4455;\n",
              "      --disabled-fill-color: #666;\n",
              "  }\n",
              "\n",
              "  .colab-df-quickchart {\n",
              "    background-color: var(--bg-color);\n",
              "    border: none;\n",
              "    border-radius: 50%;\n",
              "    cursor: pointer;\n",
              "    display: none;\n",
              "    fill: var(--fill-color);\n",
              "    height: 32px;\n",
              "    padding: 0;\n",
              "    width: 32px;\n",
              "  }\n",
              "\n",
              "  .colab-df-quickchart:hover {\n",
              "    background-color: var(--hover-bg-color);\n",
              "    box-shadow: 0 1px 2px rgba(60, 64, 67, 0.3), 0 1px 3px 1px rgba(60, 64, 67, 0.15);\n",
              "    fill: var(--button-hover-fill-color);\n",
              "  }\n",
              "\n",
              "  .colab-df-quickchart-complete:disabled,\n",
              "  .colab-df-quickchart-complete:disabled:hover {\n",
              "    background-color: var(--disabled-bg-color);\n",
              "    fill: var(--disabled-fill-color);\n",
              "    box-shadow: none;\n",
              "  }\n",
              "\n",
              "  .colab-df-spinner {\n",
              "    border: 2px solid var(--fill-color);\n",
              "    border-color: transparent;\n",
              "    border-bottom-color: var(--fill-color);\n",
              "    animation:\n",
              "      spin 1s steps(1) infinite;\n",
              "  }\n",
              "\n",
              "  @keyframes spin {\n",
              "    0% {\n",
              "      border-color: transparent;\n",
              "      border-bottom-color: var(--fill-color);\n",
              "      border-left-color: var(--fill-color);\n",
              "    }\n",
              "    20% {\n",
              "      border-color: transparent;\n",
              "      border-left-color: var(--fill-color);\n",
              "      border-top-color: var(--fill-color);\n",
              "    }\n",
              "    30% {\n",
              "      border-color: transparent;\n",
              "      border-left-color: var(--fill-color);\n",
              "      border-top-color: var(--fill-color);\n",
              "      border-right-color: var(--fill-color);\n",
              "    }\n",
              "    40% {\n",
              "      border-color: transparent;\n",
              "      border-right-color: var(--fill-color);\n",
              "      border-top-color: var(--fill-color);\n",
              "    }\n",
              "    60% {\n",
              "      border-color: transparent;\n",
              "      border-right-color: var(--fill-color);\n",
              "    }\n",
              "    80% {\n",
              "      border-color: transparent;\n",
              "      border-right-color: var(--fill-color);\n",
              "      border-bottom-color: var(--fill-color);\n",
              "    }\n",
              "    90% {\n",
              "      border-color: transparent;\n",
              "      border-bottom-color: var(--fill-color);\n",
              "    }\n",
              "  }\n",
              "</style>\n",
              "\n",
              "  <script>\n",
              "    async function quickchart(key) {\n",
              "      const quickchartButtonEl =\n",
              "        document.querySelector('#' + key + ' button');\n",
              "      quickchartButtonEl.disabled = true;  // To prevent multiple clicks.\n",
              "      quickchartButtonEl.classList.add('colab-df-spinner');\n",
              "      try {\n",
              "        const charts = await google.colab.kernel.invokeFunction(\n",
              "            'suggestCharts', [key], {});\n",
              "      } catch (error) {\n",
              "        console.error('Error during call to suggestCharts:', error);\n",
              "      }\n",
              "      quickchartButtonEl.classList.remove('colab-df-spinner');\n",
              "      quickchartButtonEl.classList.add('colab-df-quickchart-complete');\n",
              "    }\n",
              "    (() => {\n",
              "      let quickchartButtonEl =\n",
              "        document.querySelector('#df-b64e1ab6-3e19-40c8-91fe-e416e209facd button');\n",
              "      quickchartButtonEl.style.display =\n",
              "        google.colab.kernel.accessAllowed ? 'block' : 'none';\n",
              "    })();\n",
              "  </script>\n",
              "</div>\n",
              "\n",
              "    </div>\n",
              "  </div>\n"
            ],
            "application/vnd.google.colaboratory.intrinsic+json": {
              "type": "dataframe",
              "variable_name": "dataset",
              "summary": "{\n  \"name\": \"dataset\",\n  \"rows\": 918,\n  \"fields\": [\n    {\n      \"column\": \"Age\",\n      \"properties\": {\n        \"dtype\": \"number\",\n        \"std\": 9,\n        \"min\": 28,\n        \"max\": 77,\n        \"num_unique_values\": 50,\n        \"samples\": [\n          44,\n          68,\n          66\n        ],\n        \"semantic_type\": \"\",\n        \"description\": \"\"\n      }\n    },\n    {\n      \"column\": \"Sex\",\n      \"properties\": {\n        \"dtype\": \"category\",\n        \"num_unique_values\": 2,\n        \"samples\": [\n          \"F\",\n          \"M\"\n        ],\n        \"semantic_type\": \"\",\n        \"description\": \"\"\n      }\n    },\n    {\n      \"column\": \"ChestPainType\",\n      \"properties\": {\n        \"dtype\": \"category\",\n        \"num_unique_values\": 4,\n        \"samples\": [\n          \"NAP\",\n          \"TA\"\n        ],\n        \"semantic_type\": \"\",\n        \"description\": \"\"\n      }\n    },\n    {\n      \"column\": \"RestingBP\",\n      \"properties\": {\n        \"dtype\": \"number\",\n        \"std\": 18,\n        \"min\": 0,\n        \"max\": 200,\n        \"num_unique_values\": 67,\n        \"samples\": [\n          165,\n          118\n        ],\n        \"semantic_type\": \"\",\n        \"description\": \"\"\n      }\n    },\n    {\n      \"column\": \"Cholesterol\",\n      \"properties\": {\n        \"dtype\": \"number\",\n        \"std\": 109,\n        \"min\": 0,\n        \"max\": 603,\n        \"num_unique_values\": 222,\n        \"samples\": [\n          305,\n          321\n        ],\n        \"semantic_type\": \"\",\n        \"description\": \"\"\n      }\n    },\n    {\n      \"column\": \"FastingBS\",\n      \"properties\": {\n        \"dtype\": \"number\",\n        \"std\": 0,\n        \"min\": 0,\n        \"max\": 1,\n        \"num_unique_values\": 2,\n        \"samples\": [\n          1,\n          0\n        ],\n        \"semantic_type\": \"\",\n        \"description\": \"\"\n      }\n    },\n    {\n      \"column\": \"RestingECG\",\n      \"properties\": {\n        \"dtype\": \"category\",\n        \"num_unique_values\": 3,\n        \"samples\": [\n          \"Normal\",\n          \"ST\"\n        ],\n        \"semantic_type\": \"\",\n        \"description\": \"\"\n      }\n    },\n    {\n      \"column\": \"MaxHR\",\n      \"properties\": {\n        \"dtype\": \"number\",\n        \"std\": 25,\n        \"min\": 60,\n        \"max\": 202,\n        \"num_unique_values\": 119,\n        \"samples\": [\n          132,\n          157\n        ],\n        \"semantic_type\": \"\",\n        \"description\": \"\"\n      }\n    },\n    {\n      \"column\": \"ExerciseAngina\",\n      \"properties\": {\n        \"dtype\": \"category\",\n        \"num_unique_values\": 2,\n        \"samples\": [\n          \"Y\",\n          \"N\"\n        ],\n        \"semantic_type\": \"\",\n        \"description\": \"\"\n      }\n    },\n    {\n      \"column\": \"Oldpeak\",\n      \"properties\": {\n        \"dtype\": \"number\",\n        \"std\": 1.0665701510493257,\n        \"min\": -2.6,\n        \"max\": 6.2,\n        \"num_unique_values\": 53,\n        \"samples\": [\n          1.3,\n          0.6\n        ],\n        \"semantic_type\": \"\",\n        \"description\": \"\"\n      }\n    },\n    {\n      \"column\": \"ST_Slope\",\n      \"properties\": {\n        \"dtype\": \"category\",\n        \"num_unique_values\": 3,\n        \"samples\": [\n          \"Up\",\n          \"Flat\"\n        ],\n        \"semantic_type\": \"\",\n        \"description\": \"\"\n      }\n    },\n    {\n      \"column\": \"HeartDisease\",\n      \"properties\": {\n        \"dtype\": \"number\",\n        \"std\": 0,\n        \"min\": 0,\n        \"max\": 1,\n        \"num_unique_values\": 2,\n        \"samples\": [\n          1,\n          0\n        ],\n        \"semantic_type\": \"\",\n        \"description\": \"\"\n      }\n    }\n  ]\n}"
            }
          },
          "metadata": {},
          "execution_count": 4
        }
      ]
    },
    {
      "cell_type": "code",
      "source": [
        "dataset.shape"
      ],
      "metadata": {
        "colab": {
          "base_uri": "https://localhost:8080/"
        },
        "id": "116wCdx7EcaR",
        "outputId": "c155bec2-078c-488d-86b6-e02ecf530db8",
        "execution": {
          "iopub.status.busy": "2024-08-02T12:37:40.776128Z",
          "iopub.execute_input": "2024-08-02T12:37:40.776522Z",
          "iopub.status.idle": "2024-08-02T12:37:40.786059Z",
          "shell.execute_reply.started": "2024-08-02T12:37:40.776477Z",
          "shell.execute_reply": "2024-08-02T12:37:40.785147Z"
        },
        "trusted": true
      },
      "execution_count": 29,
      "outputs": [
        {
          "output_type": "execute_result",
          "data": {
            "text/plain": [
              "(918, 12)"
            ]
          },
          "metadata": {},
          "execution_count": 29
        }
      ]
    },
    {
      "cell_type": "code",
      "source": [
        "#checking null value\n",
        "dataset.isnull().sum()\n"
      ],
      "metadata": {
        "colab": {
          "base_uri": "https://localhost:8080/",
          "height": 461
        },
        "id": "W8RxfETBYpk4",
        "outputId": "1d115c42-2fb7-482e-9eeb-10fab9d0771c",
        "execution": {
          "iopub.status.busy": "2024-08-02T12:37:40.788165Z",
          "iopub.execute_input": "2024-08-02T12:37:40.788486Z",
          "iopub.status.idle": "2024-08-02T12:37:40.799856Z",
          "shell.execute_reply.started": "2024-08-02T12:37:40.788460Z",
          "shell.execute_reply": "2024-08-02T12:37:40.798975Z"
        },
        "trusted": true
      },
      "execution_count": 30,
      "outputs": [
        {
          "output_type": "execute_result",
          "data": {
            "text/plain": [
              "Age               0\n",
              "Sex               0\n",
              "ChestPainType     0\n",
              "RestingBP         0\n",
              "Cholesterol       0\n",
              "FastingBS         0\n",
              "RestingECG        0\n",
              "MaxHR             0\n",
              "ExerciseAngina    0\n",
              "Oldpeak           0\n",
              "ST_Slope          0\n",
              "HeartDisease      0\n",
              "dtype: int64"
            ],
            "text/html": [
              "<table border=\"1\" class=\"dataframe\">\n",
              "  <thead>\n",
              "    <tr style=\"text-align: right;\">\n",
              "      <th></th>\n",
              "      <th>0</th>\n",
              "    </tr>\n",
              "  </thead>\n",
              "  <tbody>\n",
              "    <tr>\n",
              "      <th>Age</th>\n",
              "      <td>0</td>\n",
              "    </tr>\n",
              "    <tr>\n",
              "      <th>Sex</th>\n",
              "      <td>0</td>\n",
              "    </tr>\n",
              "    <tr>\n",
              "      <th>ChestPainType</th>\n",
              "      <td>0</td>\n",
              "    </tr>\n",
              "    <tr>\n",
              "      <th>RestingBP</th>\n",
              "      <td>0</td>\n",
              "    </tr>\n",
              "    <tr>\n",
              "      <th>Cholesterol</th>\n",
              "      <td>0</td>\n",
              "    </tr>\n",
              "    <tr>\n",
              "      <th>FastingBS</th>\n",
              "      <td>0</td>\n",
              "    </tr>\n",
              "    <tr>\n",
              "      <th>RestingECG</th>\n",
              "      <td>0</td>\n",
              "    </tr>\n",
              "    <tr>\n",
              "      <th>MaxHR</th>\n",
              "      <td>0</td>\n",
              "    </tr>\n",
              "    <tr>\n",
              "      <th>ExerciseAngina</th>\n",
              "      <td>0</td>\n",
              "    </tr>\n",
              "    <tr>\n",
              "      <th>Oldpeak</th>\n",
              "      <td>0</td>\n",
              "    </tr>\n",
              "    <tr>\n",
              "      <th>ST_Slope</th>\n",
              "      <td>0</td>\n",
              "    </tr>\n",
              "    <tr>\n",
              "      <th>HeartDisease</th>\n",
              "      <td>0</td>\n",
              "    </tr>\n",
              "  </tbody>\n",
              "</table><br><label><b>dtype:</b> int64</label>"
            ]
          },
          "metadata": {},
          "execution_count": 30
        }
      ]
    },
    {
      "cell_type": "code",
      "source": [
        "#checking HeartDisease distribution\n",
        "dataset['HeartDisease'].value_counts()"
      ],
      "metadata": {
        "colab": {
          "base_uri": "https://localhost:8080/",
          "height": 179
        },
        "id": "DN78bFtGYpk4",
        "outputId": "938026d6-4531-48ba-ccec-a2d4ffdc947d",
        "execution": {
          "iopub.status.busy": "2024-08-02T12:37:40.800863Z",
          "iopub.execute_input": "2024-08-02T12:37:40.801129Z",
          "iopub.status.idle": "2024-08-02T12:37:40.814611Z",
          "shell.execute_reply.started": "2024-08-02T12:37:40.801105Z",
          "shell.execute_reply": "2024-08-02T12:37:40.813734Z"
        },
        "trusted": true
      },
      "execution_count": 31,
      "outputs": [
        {
          "output_type": "execute_result",
          "data": {
            "text/plain": [
              "HeartDisease\n",
              "1    508\n",
              "0    410\n",
              "Name: count, dtype: int64"
            ],
            "text/html": [
              "<table border=\"1\" class=\"dataframe\">\n",
              "  <thead>\n",
              "    <tr style=\"text-align: right;\">\n",
              "      <th></th>\n",
              "      <th>count</th>\n",
              "    </tr>\n",
              "    <tr>\n",
              "      <th>HeartDisease</th>\n",
              "      <th></th>\n",
              "    </tr>\n",
              "  </thead>\n",
              "  <tbody>\n",
              "    <tr>\n",
              "      <th>1</th>\n",
              "      <td>508</td>\n",
              "    </tr>\n",
              "    <tr>\n",
              "      <th>0</th>\n",
              "      <td>410</td>\n",
              "    </tr>\n",
              "  </tbody>\n",
              "</table><br><label><b>dtype:</b> int64</label>"
            ]
          },
          "metadata": {},
          "execution_count": 31
        }
      ]
    },
    {
      "cell_type": "code",
      "source": [
        "plt.figure(figsize=(4, 4))\n",
        "sns.countplot(x='HeartDisease', data = dataset)"
      ],
      "metadata": {
        "colab": {
          "base_uri": "https://localhost:8080/",
          "height": 406
        },
        "id": "4iQPn9XhYpk5",
        "outputId": "c34ef790-4f2e-417f-a85c-233b06108ce7",
        "execution": {
          "iopub.status.busy": "2024-08-02T12:37:40.815836Z",
          "iopub.execute_input": "2024-08-02T12:37:40.816517Z",
          "iopub.status.idle": "2024-08-02T12:37:41.032182Z",
          "shell.execute_reply.started": "2024-08-02T12:37:40.816462Z",
          "shell.execute_reply": "2024-08-02T12:37:41.031177Z"
        },
        "trusted": true
      },
      "execution_count": 32,
      "outputs": [
        {
          "output_type": "execute_result",
          "data": {
            "text/plain": [
              "<Axes: xlabel='HeartDisease', ylabel='count'>"
            ]
          },
          "metadata": {},
          "execution_count": 32
        },
        {
          "output_type": "display_data",
          "data": {
            "text/plain": [
              "<Figure size 400x400 with 1 Axes>"
            ],
            "image/png": "[encoded data removed]"
          },
          "metadata": {}
        }
      ]
    },
    {
      "cell_type": "code",
      "source": [
        "#Checking for Duplicate data\n",
        "Duplicate_data=dataset[dataset.duplicated()]\n",
        "print(Duplicate_data)\n",
        "dataset.duplicated().sum()"
      ],
      "metadata": {
        "colab": {
          "base_uri": "https://localhost:8080/"
        },
        "id": "3SfGvF72Hn9R",
        "outputId": "15d7a0d2-62a7-4966-b42b-9bda0a7978c1",
        "execution": {
          "iopub.status.busy": "2024-08-02T12:38:57.558063Z",
          "iopub.execute_input": "2024-08-02T12:38:57.558743Z",
          "iopub.status.idle": "2024-08-02T12:38:57.576064Z",
          "shell.execute_reply.started": "2024-08-02T12:38:57.558710Z",
          "shell.execute_reply": "2024-08-02T12:38:57.575024Z"
        },
        "trusted": true
      },
      "execution_count": 33,
      "outputs": [
        {
          "output_type": "stream",
          "name": "stdout",
          "text": [
            "Empty DataFrame\n",
            "Columns: [Age, Sex, ChestPainType, RestingBP, Cholesterol, FastingBS, RestingECG, MaxHR, ExerciseAngina, Oldpeak, ST_Slope, HeartDisease]\n",
            "Index: []\n"
          ]
        },
        {
          "output_type": "execute_result",
          "data": {
            "text/plain": [
              "0"
            ]
          },
          "metadata": {},
          "execution_count": 33
        }
      ]
    },
    {
      "cell_type": "code",
      "source": [
        "dataset.describe()"
      ],
      "metadata": {
        "colab": {
          "base_uri": "https://localhost:8080/",
          "height": 301
        },
        "id": "3spcNoTWH1Qv",
        "outputId": "1b2da3f9-972b-4926-e103-b5d2ed830a39",
        "execution": {
          "iopub.status.busy": "2024-08-02T12:39:00.007593Z",
          "iopub.execute_input": "2024-08-02T12:39:00.008224Z",
          "iopub.status.idle": "2024-08-02T12:39:00.051885Z",
          "shell.execute_reply.started": "2024-08-02T12:39:00.008187Z",
          "shell.execute_reply": "2024-08-02T12:39:00.051056Z"
        },
        "trusted": true
      },
      "execution_count": 34,
      "outputs": [
        {
          "output_type": "execute_result",
          "data": {
            "text/plain": [
              "              Age   RestingBP  Cholesterol   FastingBS       MaxHR  \\\n",
              "count  918.000000  918.000000   918.000000  918.000000  918.000000   \n",
              "mean    53.510893  132.396514   198.799564    0.233115  136.809368   \n",
              "std      9.432617   18.514154   109.384145    0.423046   25.460334   \n",
              "min     28.000000    0.000000     0.000000    0.000000   60.000000   \n",
              "25%     47.000000  120.000000   173.250000    0.000000  120.000000   \n",
              "50%     54.000000  130.000000   223.000000    0.000000  138.000000   \n",
              "75%     60.000000  140.000000   267.000000    0.000000  156.000000   \n",
              "max     77.000000  200.000000   603.000000    1.000000  202.000000   \n",
              "\n",
              "          Oldpeak  HeartDisease  \n",
              "count  918.000000    918.000000  \n",
              "mean     0.887364      0.553377  \n",
              "std      1.066570      0.497414  \n",
              "min     -2.600000      0.000000  \n",
              "25%      0.000000      0.000000  \n",
              "50%      0.600000      1.000000  \n",
              "75%      1.500000      1.000000  \n",
              "max      6.200000      1.000000  "
            ],
            "text/html": [
              "\n",
              "  <div id=\"df-fc51d207-0c03-4dde-9a11-8dc6ce42c0b4\" class=\"colab-df-container\">\n",
              "    <div>\n",
              "<style scoped>\n",
              "    .dataframe tbody tr th:only-of-type {\n",
              "        vertical-align: middle;\n",
              "    }\n",
              "\n",
              "    .dataframe tbody tr th {\n",
              "        vertical-align: top;\n",
              "    }\n",
              "\n",
              "    .dataframe thead th {\n",
              "        text-align: right;\n",
              "    }\n",
              "</style>\n",
              "<table border=\"1\" class=\"dataframe\">\n",
              "  <thead>\n",
              "    <tr style=\"text-align: right;\">\n",
              "      <th></th>\n",
              "      <th>Age</th>\n",
              "      <th>RestingBP</th>\n",
              "      <th>Cholesterol</th>\n",
              "      <th>FastingBS</th>\n",
              "      <th>MaxHR</th>\n",
              "      <th>Oldpeak</th>\n",
              "      <th>HeartDisease</th>\n",
              "    </tr>\n",
              "  </thead>\n",
              "  <tbody>\n",
              "    <tr>\n",
              "      <th>count</th>\n",
              "      <td>918.000000</td>\n",
              "      <td>918.000000</td>\n",
              "      <td>918.000000</td>\n",
              "      <td>918.000000</td>\n",
              "      <td>918.000000</td>\n",
              "      <td>918.000000</td>\n",
              "      <td>918.000000</td>\n",
              "    </tr>\n",
              "    <tr>\n",
              "      <th>mean</th>\n",
              "      <td>53.510893</td>\n",
              "      <td>132.396514</td>\n",
              "      <td>198.799564</td>\n",
              "      <td>0.233115</td>\n",
              "      <td>136.809368</td>\n",
              "      <td>0.887364</td>\n",
              "      <td>0.553377</td>\n",
              "    </tr>\n",
              "    <tr>\n",
              "      <th>std</th>\n",
              "      <td>9.432617</td>\n",
              "      <td>18.514154</td>\n",
              "      <td>109.384145</td>\n",
              "      <td>0.423046</td>\n",
              "      <td>25.460334</td>\n",
              "      <td>1.066570</td>\n",
              "      <td>0.497414</td>\n",
              "    </tr>\n",
              "    <tr>\n",
              "      <th>min</th>\n",
              "      <td>28.000000</td>\n",
              "      <td>0.000000</td>\n",
              "      <td>0.000000</td>\n",
              "      <td>0.000000</td>\n",
              "      <td>60.000000</td>\n",
              "      <td>-2.600000</td>\n",
              "      <td>0.000000</td>\n",
              "    </tr>\n",
              "    <tr>\n",
              "      <th>25%</th>\n",
              "      <td>47.000000</td>\n",
              "      <td>120.000000</td>\n",
              "      <td>173.250000</td>\n",
              "      <td>0.000000</td>\n",
              "      <td>120.000000</td>\n",
              "      <td>0.000000</td>\n",
              "      <td>0.000000</td>\n",
              "    </tr>\n",
              "    <tr>\n",
              "      <th>50%</th>\n",
              "      <td>54.000000</td>\n",
              "      <td>130.000000</td>\n",
              "      <td>223.000000</td>\n",
              "      <td>0.000000</td>\n",
              "      <td>138.000000</td>\n",
              "      <td>0.600000</td>\n",
              "      <td>1.000000</td>\n",
              "    </tr>\n",
              "    <tr>\n",
              "      <th>75%</th>\n",
              "      <td>60.000000</td>\n",
              "      <td>140.000000</td>\n",
              "      <td>267.000000</td>\n",
              "      <td>0.000000</td>\n",
              "      <td>156.000000</td>\n",
              "      <td>1.500000</td>\n",
              "      <td>1.000000</td>\n",
              "    </tr>\n",
              "    <tr>\n",
              "      <th>max</th>\n",
              "      <td>77.000000</td>\n",
              "      <td>200.000000</td>\n",
              "      <td>603.000000</td>\n",
              "      <td>1.000000</td>\n",
              "      <td>202.000000</td>\n",
              "      <td>6.200000</td>\n",
              "      <td>1.000000</td>\n",
              "    </tr>\n",
              "  </tbody>\n",
              "</table>\n",
              "</div>\n",
              "    <div class=\"colab-df-buttons\">\n",
              "\n",
              "  <div class=\"colab-df-container\">\n",
              "    <button class=\"colab-df-convert\" onclick=\"convertToInteractive('df-fc51d207-0c03-4dde-9a11-8dc6ce42c0b4')\"\n",
              "            title=\"Convert this dataframe to an interactive table.\"\n",
              "            style=\"display:none;\">\n",
              "\n",
              "  <svg xmlns=\"http://www.w3.org/2000/svg\" height=\"24px\" viewBox=\"0 -960 960 960\">\n",
              "    <path d=\"M120-120v-720h720v720H120Zm60-500h600v-160H180v160Zm220 220h160v-160H400v160Zm0 220h160v-160H400v160ZM180-400h160v-160H180v160Zm440 0h160v-160H620v160ZM180-180h160v-160H180v160Zm440 0h160v-160H620v160Z\"/>\n",
              "  </svg>\n",
              "    </button>\n",
              "\n",
              "  <style>\n",
              "    .colab-df-container {\n",
              "      display:flex;\n",
              "      gap: 12px;\n",
              "    }\n",
              "\n",
              "    .colab-df-convert {\n",
              "      background-color: #E8F0FE;\n",
              "      border: none;\n",
              "      border-radius: 50%;\n",
              "      cursor: pointer;\n",
              "      display: none;\n",
              "      fill: #1967D2;\n",
              "      height: 32px;\n",
              "      padding: 0 0 0 0;\n",
              "      width: 32px;\n",
              "    }\n",
              "\n",
              "    .colab-df-convert:hover {\n",
              "      background-color: #E2EBFA;\n",
              "      box-shadow: 0px 1px 2px rgba(60, 64, 67, 0.3), 0px 1px 3px 1px rgba(60, 64, 67, 0.15);\n",
              "      fill: #174EA6;\n",
              "    }\n",
              "\n",
              "    .colab-df-buttons div {\n",
              "      margin-bottom: 4px;\n",
              "    }\n",
              "\n",
              "    [theme=dark] .colab-df-convert {\n",
              "      background-color: #3B4455;\n",
              "      fill: #D2E3FC;\n",
              "    }\n",
              "\n",
              "    [theme=dark] .colab-df-convert:hover {\n",
              "      background-color: #434B5C;\n",
              "      box-shadow: 0px 1px 3px 1px rgba(0, 0, 0, 0.15);\n",
              "      filter: drop-shadow(0px 1px 2px rgba(0, 0, 0, 0.3));\n",
              "      fill: #FFFFFF;\n",
              "    }\n",
              "  </style>\n",
              "\n",
              "    <script>\n",
              "      const buttonEl =\n",
              "        document.querySelector('#df-fc51d207-0c03-4dde-9a11-8dc6ce42c0b4 button.colab-df-convert');\n",
              "      buttonEl.style.display =\n",
              "        google.colab.kernel.accessAllowed ? 'block' : 'none';\n",
              "\n",
              "      async function convertToInteractive(key) {\n",
              "        const element = document.querySelector('#df-fc51d207-0c03-4dde-9a11-8dc6ce42c0b4');\n",
              "        const dataTable =\n",
              "          await google.colab.kernel.invokeFunction('convertToInteractive',\n",
              "                                                    [key], {});\n",
              "        if (!dataTable) return;\n",
              "\n",
              "        const docLinkHtml = 'Like what you see? Visit the ' +\n",
              "          '<a target=\"_blank\" href=https://colab.research.google.com/notebooks/data_table.ipynb>data table notebook</a>'\n",
              "          + ' to learn more about interactive tables.';\n",
              "        element.innerHTML = '';\n",
              "        dataTable['output_type'] = 'display_data';\n",
              "        await google.colab.output.renderOutput(dataTable, element);\n",
              "        const docLink = document.createElement('div');\n",
              "        docLink.innerHTML = docLinkHtml;\n",
              "        element.appendChild(docLink);\n",
              "      }\n",
              "    </script>\n",
              "  </div>\n",
              "\n",
              "\n",
              "<div id=\"df-2528612d-d00f-40f3-8ee4-0aea0b59fa73\">\n",
              "  <button class=\"colab-df-quickchart\" onclick=\"quickchart('df-2528612d-d00f-40f3-8ee4-0aea0b59fa73')\"\n",
              "            title=\"Suggest charts\"\n",
              "            style=\"display:none;\">\n",
              "\n",
              "<svg xmlns=\"http://www.w3.org/2000/svg\" height=\"24px\"viewBox=\"0 0 24 24\"\n",
              "     width=\"24px\">\n",
              "    <g>\n",
              "        <path d=\"M19 3H5c-1.1 0-2 .9-2 2v14c0 1.1.9 2 2 2h14c1.1 0 2-.9 2-2V5c0-1.1-.9-2-2-2zM9 17H7v-7h2v7zm4 0h-2V7h2v10zm4 0h-2v-4h2v4z\"/>\n",
              "    </g>\n",
              "</svg>\n",
              "  </button>\n",
              "\n",
              "<style>\n",
              "  .colab-df-quickchart {\n",
              "      --bg-color: #E8F0FE;\n",
              "      --fill-color: #1967D2;\n",
              "      --hover-bg-color: #E2EBFA;\n",
              "      --hover-fill-color: #174EA6;\n",
              "      --disabled-fill-color: #AAA;\n",
              "      --disabled-bg-color: #DDD;\n",
              "  }\n",
              "\n",
              "  [theme=dark] .colab-df-quickchart {\n",
              "      --bg-color: #3B4455;\n",
              "      --fill-color: #D2E3FC;\n",
              "      --hover-bg-color: #434B5C;\n",
              "      --hover-fill-color: #FFFFFF;\n",
              "      --disabled-bg-color: #3B4455;\n",
              "      --disabled-fill-color: #666;\n",
              "  }\n",
              "\n",
              "  .colab-df-quickchart {\n",
              "    background-color: var(--bg-color);\n",
              "    border: none;\n",
              "    border-radius: 50%;\n",
              "    cursor: pointer;\n",
              "    display: none;\n",
              "    fill: var(--fill-color);\n",
              "    height: 32px;\n",
              "    padding: 0;\n",
              "    width: 32px;\n",
              "  }\n",
              "\n",
              "  .colab-df-quickchart:hover {\n",
              "    background-color: var(--hover-bg-color);\n",
              "    box-shadow: 0 1px 2px rgba(60, 64, 67, 0.3), 0 1px 3px 1px rgba(60, 64, 67, 0.15);\n",
              "    fill: var(--button-hover-fill-color);\n",
              "  }\n",
              "\n",
              "  .colab-df-quickchart-complete:disabled,\n",
              "  .colab-df-quickchart-complete:disabled:hover {\n",
              "    background-color: var(--disabled-bg-color);\n",
              "    fill: var(--disabled-fill-color);\n",
              "    box-shadow: none;\n",
              "  }\n",
              "\n",
              "  .colab-df-spinner {\n",
              "    border: 2px solid var(--fill-color);\n",
              "    border-color: transparent;\n",
              "    border-bottom-color: var(--fill-color);\n",
              "    animation:\n",
              "      spin 1s steps(1) infinite;\n",
              "  }\n",
              "\n",
              "  @keyframes spin {\n",
              "    0% {\n",
              "      border-color: transparent;\n",
              "      border-bottom-color: var(--fill-color);\n",
              "      border-left-color: var(--fill-color);\n",
              "    }\n",
              "    20% {\n",
              "      border-color: transparent;\n",
              "      border-left-color: var(--fill-color);\n",
              "      border-top-color: var(--fill-color);\n",
              "    }\n",
              "    30% {\n",
              "      border-color: transparent;\n",
              "      border-left-color: var(--fill-color);\n",
              "      border-top-color: var(--fill-color);\n",
              "      border-right-color: var(--fill-color);\n",
              "    }\n",
              "    40% {\n",
              "      border-color: transparent;\n",
              "      border-right-color: var(--fill-color);\n",
              "      border-top-color: var(--fill-color);\n",
              "    }\n",
              "    60% {\n",
              "      border-color: transparent;\n",
              "      border-right-color: var(--fill-color);\n",
              "    }\n",
              "    80% {\n",
              "      border-color: transparent;\n",
              "      border-right-color: var(--fill-color);\n",
              "      border-bottom-color: var(--fill-color);\n",
              "    }\n",
              "    90% {\n",
              "      border-color: transparent;\n",
              "      border-bottom-color: var(--fill-color);\n",
              "    }\n",
              "  }\n",
              "</style>\n",
              "\n",
              "  <script>\n",
              "    async function quickchart(key) {\n",
              "      const quickchartButtonEl =\n",
              "        document.querySelector('#' + key + ' button');\n",
              "      quickchartButtonEl.disabled = true;  // To prevent multiple clicks.\n",
              "      quickchartButtonEl.classList.add('colab-df-spinner');\n",
              "      try {\n",
              "        const charts = await google.colab.kernel.invokeFunction(\n",
              "            'suggestCharts', [key], {});\n",
              "      } catch (error) {\n",
              "        console.error('Error during call to suggestCharts:', error);\n",
              "      }\n",
              "      quickchartButtonEl.classList.remove('colab-df-spinner');\n",
              "      quickchartButtonEl.classList.add('colab-df-quickchart-complete');\n",
              "    }\n",
              "    (() => {\n",
              "      let quickchartButtonEl =\n",
              "        document.querySelector('#df-2528612d-d00f-40f3-8ee4-0aea0b59fa73 button');\n",
              "      quickchartButtonEl.style.display =\n",
              "        google.colab.kernel.accessAllowed ? 'block' : 'none';\n",
              "    })();\n",
              "  </script>\n",
              "</div>\n",
              "\n",
              "    </div>\n",
              "  </div>\n"
            ],
            "application/vnd.google.colaboratory.intrinsic+json": {
              "type": "dataframe",
              "summary": "{\n  \"name\": \"dataset\",\n  \"rows\": 8,\n  \"fields\": [\n    {\n      \"column\": \"Age\",\n      \"properties\": {\n        \"dtype\": \"number\",\n        \"std\": 308.627347039806,\n        \"min\": 9.43261650673201,\n        \"max\": 918.0,\n        \"num_unique_values\": 8,\n        \"samples\": [\n          53.510893246187365,\n          54.0,\n          918.0\n        ],\n        \"semantic_type\": \"\",\n        \"description\": \"\"\n      }\n    },\n    {\n      \"column\": \"RestingBP\",\n      \"properties\": {\n        \"dtype\": \"number\",\n        \"std\": 294.5935541913639,\n        \"min\": 0.0,\n        \"max\": 918.0,\n        \"num_unique_values\": 8,\n        \"samples\": [\n          132.39651416122004,\n          130.0,\n          918.0\n        ],\n        \"semantic_type\": \"\",\n        \"description\": \"\"\n      }\n    },\n    {\n      \"column\": \"Cholesterol\",\n      \"properties\": {\n        \"dtype\": \"number\",\n        \"std\": 300.55294190735805,\n        \"min\": 0.0,\n        \"max\": 918.0,\n        \"num_unique_values\": 8,\n        \"samples\": [\n          198.7995642701525,\n          223.0,\n          918.0\n        ],\n        \"semantic_type\": \"\",\n        \"description\": \"\"\n      }\n    },\n    {\n      \"column\": \"FastingBS\",\n      \"properties\": {\n        \"dtype\": \"number\",\n        \"std\": 324.4785490336432,\n        \"min\": 0.0,\n        \"max\": 918.0,\n        \"num_unique_values\": 5,\n        \"samples\": [\n          0.23311546840958605,\n          1.0,\n          0.423045624739303\n        ],\n        \"semantic_type\": \"\",\n        \"description\": \"\"\n      }\n    },\n    {\n      \"column\": \"MaxHR\",\n      \"properties\": {\n        \"dtype\": \"number\",\n        \"std\": 287.52953225319146,\n        \"min\": 25.4603341382503,\n        \"max\": 918.0,\n        \"num_unique_values\": 8,\n        \"samples\": [\n          136.80936819172112,\n          138.0,\n          918.0\n        ],\n        \"semantic_type\": \"\",\n        \"description\": \"\"\n      }\n    },\n    {\n      \"column\": \"Oldpeak\",\n      \"properties\": {\n        \"dtype\": \"number\",\n        \"std\": 324.18454495166225,\n        \"min\": -2.6,\n        \"max\": 918.0,\n        \"num_unique_values\": 8,\n        \"samples\": [\n          0.8873638344226579,\n          0.6,\n          918.0\n        ],\n        \"semantic_type\": \"\",\n        \"description\": \"\"\n      }\n    },\n    {\n      \"column\": \"HeartDisease\",\n      \"properties\": {\n        \"dtype\": \"number\",\n        \"std\": 324.3576830952401,\n        \"min\": 0.0,\n        \"max\": 918.0,\n        \"num_unique_values\": 5,\n        \"samples\": [\n          0.5533769063180828,\n          1.0,\n          0.4974137382845968\n        ],\n        \"semantic_type\": \"\",\n        \"description\": \"\"\n      }\n    }\n  ]\n}"
            }
          },
          "metadata": {},
          "execution_count": 34
        }
      ]
    },
    {
      "cell_type": "code",
      "source": [
        "# Heart disease-->1\n",
        "#No Heart disease-->0"
      ],
      "metadata": {
        "id": "tmEydffkJl_l",
        "execution": {
          "iopub.status.busy": "2024-08-02T12:39:05.820115Z",
          "iopub.execute_input": "2024-08-02T12:39:05.820558Z",
          "iopub.status.idle": "2024-08-02T12:39:05.824718Z",
          "shell.execute_reply.started": "2024-08-02T12:39:05.820522Z",
          "shell.execute_reply": "2024-08-02T12:39:05.823500Z"
        },
        "trusted": true
      },
      "execution_count": 35,
      "outputs": []
    },
    {
      "cell_type": "code",
      "source": [
        "dataset.info()"
      ],
      "metadata": {
        "colab": {
          "base_uri": "https://localhost:8080/"
        },
        "id": "fOnw6qjgKolE",
        "outputId": "8f523fa7-206d-4726-a1d0-87010a2a9108",
        "execution": {
          "iopub.status.busy": "2024-08-02T12:39:09.781585Z",
          "iopub.execute_input": "2024-08-02T12:39:09.782462Z",
          "iopub.status.idle": "2024-08-02T12:39:09.794826Z",
          "shell.execute_reply.started": "2024-08-02T12:39:09.782431Z",
          "shell.execute_reply": "2024-08-02T12:39:09.793735Z"
        },
        "trusted": true
      },
      "execution_count": 36,
      "outputs": [
        {
          "output_type": "stream",
          "name": "stdout",
          "text": [
            "<class 'pandas.core.frame.DataFrame'>\n",
            "RangeIndex: 918 entries, 0 to 917\n",
            "Data columns (total 12 columns):\n",
            " #   Column          Non-Null Count  Dtype  \n",
            "---  ------          --------------  -----  \n",
            " 0   Age             918 non-null    int64  \n",
            " 1   Sex             918 non-null    object \n",
            " 2   ChestPainType   918 non-null    object \n",
            " 3   RestingBP       918 non-null    int64  \n",
            " 4   Cholesterol     918 non-null    int64  \n",
            " 5   FastingBS       918 non-null    int64  \n",
            " 6   RestingECG      918 non-null    object \n",
            " 7   MaxHR           918 non-null    int64  \n",
            " 8   ExerciseAngina  918 non-null    object \n",
            " 9   Oldpeak         918 non-null    float64\n",
            " 10  ST_Slope        918 non-null    object \n",
            " 11  HeartDisease    918 non-null    int64  \n",
            "dtypes: float64(1), int64(6), object(5)\n",
            "memory usage: 86.2+ KB\n"
          ]
        }
      ]
    },
    {
      "cell_type": "code",
      "source": [
        "for c in dataset.columns:\n",
        "    if (dataset[c].dtype == 'object'):\n",
        "        print(c,dataset[c].unique())"
      ],
      "metadata": {
        "colab": {
          "base_uri": "https://localhost:8080/"
        },
        "id": "i-m2FlqcNVNb",
        "outputId": "6030a8bc-a4d7-439d-b346-0005e384c551",
        "execution": {
          "iopub.status.busy": "2024-08-02T12:37:41.113364Z",
          "iopub.execute_input": "2024-08-02T12:37:41.113715Z",
          "iopub.status.idle": "2024-08-02T12:37:41.123718Z",
          "shell.execute_reply.started": "2024-08-02T12:37:41.113684Z",
          "shell.execute_reply": "2024-08-02T12:37:41.122681Z"
        },
        "trusted": true
      },
      "execution_count": 37,
      "outputs": [
        {
          "output_type": "stream",
          "name": "stdout",
          "text": [
            "Sex ['M' 'F']\n",
            "ChestPainType ['ATA' 'NAP' 'ASY' 'TA']\n",
            "RestingECG ['Normal' 'ST' 'LVH']\n",
            "ExerciseAngina ['N' 'Y']\n",
            "ST_Slope ['Up' 'Flat' 'Down']\n"
          ]
        }
      ]
    },
    {
      "cell_type": "code",
      "source": [
        "#Label encoding\n",
        "from sklearn.preprocessing import LabelEncoder\n",
        "\n",
        "# Assuming 'dataset' is your DataFrame and 'CategoricalColumn' is the column to encode\n",
        "label_encoder = LabelEncoder()\n",
        "dataset['Chestpaintype_num'] = label_encoder.fit_transform(dataset['ChestPainType'])\n",
        "dataset['Sex_num'] = label_encoder.fit_transform(dataset['Sex'])\n",
        "dataset['RestingECG_num'] = label_encoder.fit_transform(dataset['RestingECG'])\n",
        "dataset['ExerciseAngina_num'] = label_encoder.fit_transform(dataset['ExerciseAngina'])\n",
        "dataset['ST_Slope_num'] = label_encoder.fit_transform(dataset['ST_Slope'])\n",
        "\n",
        "dataset.head(918)"
      ],
      "metadata": {
        "colab": {
          "base_uri": "https://localhost:8080/",
          "height": 444
        },
        "id": "upO4u3snNu9f",
        "outputId": "b1fe731c-73ef-4550-9da8-3c070bad9181",
        "execution": {
          "iopub.status.busy": "2024-08-02T12:39:12.938788Z",
          "iopub.execute_input": "2024-08-02T12:39:12.939160Z",
          "iopub.status.idle": "2024-08-02T12:39:12.967203Z",
          "shell.execute_reply.started": "2024-08-02T12:39:12.939129Z",
          "shell.execute_reply": "2024-08-02T12:39:12.966223Z"
        },
        "trusted": true
      },
      "execution_count": 38,
      "outputs": [
        {
          "output_type": "execute_result",
          "data": {
            "text/plain": [
              "     Age Sex ChestPainType  RestingBP  Cholesterol  FastingBS RestingECG  \\\n",
              "0     40   M           ATA        140          289          0     Normal   \n",
              "1     49   F           NAP        160          180          0     Normal   \n",
              "2     37   M           ATA        130          283          0         ST   \n",
              "3     48   F           ASY        138          214          0     Normal   \n",
              "4     54   M           NAP        150          195          0     Normal   \n",
              "..   ...  ..           ...        ...          ...        ...        ...   \n",
              "913   45   M            TA        110          264          0     Normal   \n",
              "914   68   M           ASY        144          193          1     Normal   \n",
              "915   57   M           ASY        130          131          0     Normal   \n",
              "916   57   F           ATA        130          236          0        LVH   \n",
              "917   38   M           NAP        138          175          0     Normal   \n",
              "\n",
              "     MaxHR ExerciseAngina  Oldpeak ST_Slope  HeartDisease  Chestpaintype_num  \\\n",
              "0      172              N      0.0       Up             0                  1   \n",
              "1      156              N      1.0     Flat             1                  2   \n",
              "2       98              N      0.0       Up             0                  1   \n",
              "3      108              Y      1.5     Flat             1                  0   \n",
              "4      122              N      0.0       Up             0                  2   \n",
              "..     ...            ...      ...      ...           ...                ...   \n",
              "913    132              N      1.2     Flat             1                  3   \n",
              "914    141              N      3.4     Flat             1                  0   \n",
              "915    115              Y      1.2     Flat             1                  0   \n",
              "916    174              N      0.0     Flat             1                  1   \n",
              "917    173              N      0.0       Up             0                  2   \n",
              "\n",
              "     Sex_num  RestingECG_num  ExerciseAngina_num  ST_Slope_num  \n",
              "0          1               1                   0             2  \n",
              "1          0               1                   0             1  \n",
              "2          1               2                   0             2  \n",
              "3          0               1                   1             1  \n",
              "4          1               1                   0             2  \n",
              "..       ...             ...                 ...           ...  \n",
              "913        1               1                   0             1  \n",
              "914        1               1                   0             1  \n",
              "915        1               1                   1             1  \n",
              "916        0               0                   0             1  \n",
              "917        1               1                   0             2  \n",
              "\n",
              "[918 rows x 17 columns]"
            ],
            "text/html": [
              "\n",
              "  <div id=\"df-8f5aafc1-e169-4762-abfe-9cd2133a7f11\" class=\"colab-df-container\">\n",
              "    <div>\n",
              "<style scoped>\n",
              "    .dataframe tbody tr th:only-of-type {\n",
              "        vertical-align: middle;\n",
              "    }\n",
              "\n",
              "    .dataframe tbody tr th {\n",
              "        vertical-align: top;\n",
              "    }\n",
              "\n",
              "    .dataframe thead th {\n",
              "        text-align: right;\n",
              "    }\n",
              "</style>\n",
              "<table border=\"1\" class=\"dataframe\">\n",
              "  <thead>\n",
              "    <tr style=\"text-align: right;\">\n",
              "      <th></th>\n",
              "      <th>Age</th>\n",
              "      <th>Sex</th>\n",
              "      <th>ChestPainType</th>\n",
              "      <th>RestingBP</th>\n",
              "      <th>Cholesterol</th>\n",
              "      <th>FastingBS</th>\n",
              "      <th>RestingECG</th>\n",
              "      <th>MaxHR</th>\n",
              "      <th>ExerciseAngina</th>\n",
              "      <th>Oldpeak</th>\n",
              "      <th>ST_Slope</th>\n",
              "      <th>HeartDisease</th>\n",
              "      <th>Chestpaintype_num</th>\n",
              "      <th>Sex_num</th>\n",
              "      <th>RestingECG_num</th>\n",
              "      <th>ExerciseAngina_num</th>\n",
              "      <th>ST_Slope_num</th>\n",
              "    </tr>\n",
              "  </thead>\n",
              "  <tbody>\n",
              "    <tr>\n",
              "      <th>0</th>\n",
              "      <td>40</td>\n",
              "      <td>M</td>\n",
              "      <td>ATA</td>\n",
              "      <td>140</td>\n",
              "      <td>289</td>\n",
              "      <td>0</td>\n",
              "      <td>Normal</td>\n",
              "      <td>172</td>\n",
              "      <td>N</td>\n",
              "      <td>0.0</td>\n",
              "      <td>Up</td>\n",
              "      <td>0</td>\n",
              "      <td>1</td>\n",
              "      <td>1</td>\n",
              "      <td>1</td>\n",
              "      <td>0</td>\n",
              "      <td>2</td>\n",
              "    </tr>\n",
              "    <tr>\n",
              "      <th>1</th>\n",
              "      <td>49</td>\n",
              "      <td>F</td>\n",
              "      <td>NAP</td>\n",
              "      <td>160</td>\n",
              "      <td>180</td>\n",
              "      <td>0</td>\n",
              "      <td>Normal</td>\n",
              "      <td>156</td>\n",
              "      <td>N</td>\n",
              "      <td>1.0</td>\n",
              "      <td>Flat</td>\n",
              "      <td>1</td>\n",
              "      <td>2</td>\n",
              "      <td>0</td>\n",
              "      <td>1</td>\n",
              "      <td>0</td>\n",
              "      <td>1</td>\n",
              "    </tr>\n",
              "    <tr>\n",
              "      <th>2</th>\n",
              "      <td>37</td>\n",
              "      <td>M</td>\n",
              "      <td>ATA</td>\n",
              "      <td>130</td>\n",
              "      <td>283</td>\n",
              "      <td>0</td>\n",
              "      <td>ST</td>\n",
              "      <td>98</td>\n",
              "      <td>N</td>\n",
              "      <td>0.0</td>\n",
              "      <td>Up</td>\n",
              "      <td>0</td>\n",
              "      <td>1</td>\n",
              "      <td>1</td>\n",
              "      <td>2</td>\n",
              "      <td>0</td>\n",
              "      <td>2</td>\n",
              "    </tr>\n",
              "    <tr>\n",
              "      <th>3</th>\n",
              "      <td>48</td>\n",
              "      <td>F</td>\n",
              "      <td>ASY</td>\n",
              "      <td>138</td>\n",
              "      <td>214</td>\n",
              "      <td>0</td>\n",
              "      <td>Normal</td>\n",
              "      <td>108</td>\n",
              "      <td>Y</td>\n",
              "      <td>1.5</td>\n",
              "      <td>Flat</td>\n",
              "      <td>1</td>\n",
              "      <td>0</td>\n",
              "      <td>0</td>\n",
              "      <td>1</td>\n",
              "      <td>1</td>\n",
              "      <td>1</td>\n",
              "    </tr>\n",
              "    <tr>\n",
              "      <th>4</th>\n",
              "      <td>54</td>\n",
              "      <td>M</td>\n",
              "      <td>NAP</td>\n",
              "      <td>150</td>\n",
              "      <td>195</td>\n",
              "      <td>0</td>\n",
              "      <td>Normal</td>\n",
              "      <td>122</td>\n",
              "      <td>N</td>\n",
              "      <td>0.0</td>\n",
              "      <td>Up</td>\n",
              "      <td>0</td>\n",
              "      <td>2</td>\n",
              "      <td>1</td>\n",
              "      <td>1</td>\n",
              "      <td>0</td>\n",
              "      <td>2</td>\n",
              "    </tr>\n",
              "    <tr>\n",
              "      <th>...</th>\n",
              "      <td>...</td>\n",
              "      <td>...</td>\n",
              "      <td>...</td>\n",
              "      <td>...</td>\n",
              "      <td>...</td>\n",
              "      <td>...</td>\n",
              "      <td>...</td>\n",
              "      <td>...</td>\n",
              "      <td>...</td>\n",
              "      <td>...</td>\n",
              "      <td>...</td>\n",
              "      <td>...</td>\n",
              "      <td>...</td>\n",
              "      <td>...</td>\n",
              "      <td>...</td>\n",
              "      <td>...</td>\n",
              "      <td>...</td>\n",
              "    </tr>\n",
              "    <tr>\n",
              "      <th>913</th>\n",
              "      <td>45</td>\n",
              "      <td>M</td>\n",
              "      <td>TA</td>\n",
              "      <td>110</td>\n",
              "      <td>264</td>\n",
              "      <td>0</td>\n",
              "      <td>Normal</td>\n",
              "      <td>132</td>\n",
              "      <td>N</td>\n",
              "      <td>1.2</td>\n",
              "      <td>Flat</td>\n",
              "      <td>1</td>\n",
              "      <td>3</td>\n",
              "      <td>1</td>\n",
              "      <td>1</td>\n",
              "      <td>0</td>\n",
              "      <td>1</td>\n",
              "    </tr>\n",
              "    <tr>\n",
              "      <th>914</th>\n",
              "      <td>68</td>\n",
              "      <td>M</td>\n",
              "      <td>ASY</td>\n",
              "      <td>144</td>\n",
              "      <td>193</td>\n",
              "      <td>1</td>\n",
              "      <td>Normal</td>\n",
              "      <td>141</td>\n",
              "      <td>N</td>\n",
              "      <td>3.4</td>\n",
              "      <td>Flat</td>\n",
              "      <td>1</td>\n",
              "      <td>0</td>\n",
              "      <td>1</td>\n",
              "      <td>1</td>\n",
              "      <td>0</td>\n",
              "      <td>1</td>\n",
              "    </tr>\n",
              "    <tr>\n",
              "      <th>915</th>\n",
              "      <td>57</td>\n",
              "      <td>M</td>\n",
              "      <td>ASY</td>\n",
              "      <td>130</td>\n",
              "      <td>131</td>\n",
              "      <td>0</td>\n",
              "      <td>Normal</td>\n",
              "      <td>115</td>\n",
              "      <td>Y</td>\n",
              "      <td>1.2</td>\n",
              "      <td>Flat</td>\n",
              "      <td>1</td>\n",
              "      <td>0</td>\n",
              "      <td>1</td>\n",
              "      <td>1</td>\n",
              "      <td>1</td>\n",
              "      <td>1</td>\n",
              "    </tr>\n",
              "    <tr>\n",
              "      <th>916</th>\n",
              "      <td>57</td>\n",
              "      <td>F</td>\n",
              "      <td>ATA</td>\n",
              "      <td>130</td>\n",
              "      <td>236</td>\n",
              "      <td>0</td>\n",
              "      <td>LVH</td>\n",
              "      <td>174</td>\n",
              "      <td>N</td>\n",
              "      <td>0.0</td>\n",
              "      <td>Flat</td>\n",
              "      <td>1</td>\n",
              "      <td>1</td>\n",
              "      <td>0</td>\n",
              "      <td>0</td>\n",
              "      <td>0</td>\n",
              "      <td>1</td>\n",
              "    </tr>\n",
              "    <tr>\n",
              "      <th>917</th>\n",
              "      <td>38</td>\n",
              "      <td>M</td>\n",
              "      <td>NAP</td>\n",
              "      <td>138</td>\n",
              "      <td>175</td>\n",
              "      <td>0</td>\n",
              "      <td>Normal</td>\n",
              "      <td>173</td>\n",
              "      <td>N</td>\n",
              "      <td>0.0</td>\n",
              "      <td>Up</td>\n",
              "      <td>0</td>\n",
              "      <td>2</td>\n",
              "      <td>1</td>\n",
              "      <td>1</td>\n",
              "      <td>0</td>\n",
              "      <td>2</td>\n",
              "    </tr>\n",
              "  </tbody>\n",
              "</table>\n",
              "<p>918 rows × 17 columns</p>\n",
              "</div>\n",
              "    <div class=\"colab-df-buttons\">\n",
              "\n",
              "  <div class=\"colab-df-container\">\n",
              "    <button class=\"colab-df-convert\" onclick=\"convertToInteractive('df-8f5aafc1-e169-4762-abfe-9cd2133a7f11')\"\n",
              "            title=\"Convert this dataframe to an interactive table.\"\n",
              "            style=\"display:none;\">\n",
              "\n",
              "  <svg xmlns=\"http://www.w3.org/2000/svg\" height=\"24px\" viewBox=\"0 -960 960 960\">\n",
              "    <path d=\"M120-120v-720h720v720H120Zm60-500h600v-160H180v160Zm220 220h160v-160H400v160Zm0 220h160v-160H400v160ZM180-400h160v-160H180v160Zm440 0h160v-160H620v160ZM180-180h160v-160H180v160Zm440 0h160v-160H620v160Z\"/>\n",
              "  </svg>\n",
              "    </button>\n",
              "\n",
              "  <style>\n",
              "    .colab-df-container {\n",
              "      display:flex;\n",
              "      gap: 12px;\n",
              "    }\n",
              "\n",
              "    .colab-df-convert {\n",
              "      background-color: #E8F0FE;\n",
              "      border: none;\n",
              "      border-radius: 50%;\n",
              "      cursor: pointer;\n",
              "      display: none;\n",
              "      fill: #1967D2;\n",
              "      height: 32px;\n",
              "      padding: 0 0 0 0;\n",
              "      width: 32px;\n",
              "    }\n",
              "\n",
              "    .colab-df-convert:hover {\n",
              "      background-color: #E2EBFA;\n",
              "      box-shadow: 0px 1px 2px rgba(60, 64, 67, 0.3), 0px 1px 3px 1px rgba(60, 64, 67, 0.15);\n",
              "      fill: #174EA6;\n",
              "    }\n",
              "\n",
              "    .colab-df-buttons div {\n",
              "      margin-bottom: 4px;\n",
              "    }\n",
              "\n",
              "    [theme=dark] .colab-df-convert {\n",
              "      background-color: #3B4455;\n",
              "      fill: #D2E3FC;\n",
              "    }\n",
              "\n",
              "    [theme=dark] .colab-df-convert:hover {\n",
              "      background-color: #434B5C;\n",
              "      box-shadow: 0px 1px 3px 1px rgba(0, 0, 0, 0.15);\n",
              "      filter: drop-shadow(0px 1px 2px rgba(0, 0, 0, 0.3));\n",
              "      fill: #FFFFFF;\n",
              "    }\n",
              "  </style>\n",
              "\n",
              "    <script>\n",
              "      const buttonEl =\n",
              "        document.querySelector('#df-8f5aafc1-e169-4762-abfe-9cd2133a7f11 button.colab-df-convert');\n",
              "      buttonEl.style.display =\n",
              "        google.colab.kernel.accessAllowed ? 'block' : 'none';\n",
              "\n",
              "      async function convertToInteractive(key) {\n",
              "        const element = document.querySelector('#df-8f5aafc1-e169-4762-abfe-9cd2133a7f11');\n",
              "        const dataTable =\n",
              "          await google.colab.kernel.invokeFunction('convertToInteractive',\n",
              "                                                    [key], {});\n",
              "        if (!dataTable) return;\n",
              "\n",
              "        const docLinkHtml = 'Like what you see? Visit the ' +\n",
              "          '<a target=\"_blank\" href=https://colab.research.google.com/notebooks/data_table.ipynb>data table notebook</a>'\n",
              "          + ' to learn more about interactive tables.';\n",
              "        element.innerHTML = '';\n",
              "        dataTable['output_type'] = 'display_data';\n",
              "        await google.colab.output.renderOutput(dataTable, element);\n",
              "        const docLink = document.createElement('div');\n",
              "        docLink.innerHTML = docLinkHtml;\n",
              "        element.appendChild(docLink);\n",
              "      }\n",
              "    </script>\n",
              "  </div>\n",
              "\n",
              "\n",
              "<div id=\"df-5dc743c8-03e4-4661-ab16-ab4afe44029c\">\n",
              "  <button class=\"colab-df-quickchart\" onclick=\"quickchart('df-5dc743c8-03e4-4661-ab16-ab4afe44029c')\"\n",
              "            title=\"Suggest charts\"\n",
              "            style=\"display:none;\">\n",
              "\n",
              "<svg xmlns=\"http://www.w3.org/2000/svg\" height=\"24px\"viewBox=\"0 0 24 24\"\n",
              "     width=\"24px\">\n",
              "    <g>\n",
              "        <path d=\"M19 3H5c-1.1 0-2 .9-2 2v14c0 1.1.9 2 2 2h14c1.1 0 2-.9 2-2V5c0-1.1-.9-2-2-2zM9 17H7v-7h2v7zm4 0h-2V7h2v10zm4 0h-2v-4h2v4z\"/>\n",
              "    </g>\n",
              "</svg>\n",
              "  </button>\n",
              "\n",
              "<style>\n",
              "  .colab-df-quickchart {\n",
              "      --bg-color: #E8F0FE;\n",
              "      --fill-color: #1967D2;\n",
              "      --hover-bg-color: #E2EBFA;\n",
              "      --hover-fill-color: #174EA6;\n",
              "      --disabled-fill-color: #AAA;\n",
              "      --disabled-bg-color: #DDD;\n",
              "  }\n",
              "\n",
              "  [theme=dark] .colab-df-quickchart {\n",
              "      --bg-color: #3B4455;\n",
              "      --fill-color: #D2E3FC;\n",
              "      --hover-bg-color: #434B5C;\n",
              "      --hover-fill-color: #FFFFFF;\n",
              "      --disabled-bg-color: #3B4455;\n",
              "      --disabled-fill-color: #666;\n",
              "  }\n",
              "\n",
              "  .colab-df-quickchart {\n",
              "    background-color: var(--bg-color);\n",
              "    border: none;\n",
              "    border-radius: 50%;\n",
              "    cursor: pointer;\n",
              "    display: none;\n",
              "    fill: var(--fill-color);\n",
              "    height: 32px;\n",
              "    padding: 0;\n",
              "    width: 32px;\n",
              "  }\n",
              "\n",
              "  .colab-df-quickchart:hover {\n",
              "    background-color: var(--hover-bg-color);\n",
              "    box-shadow: 0 1px 2px rgba(60, 64, 67, 0.3), 0 1px 3px 1px rgba(60, 64, 67, 0.15);\n",
              "    fill: var(--button-hover-fill-color);\n",
              "  }\n",
              "\n",
              "  .colab-df-quickchart-complete:disabled,\n",
              "  .colab-df-quickchart-complete:disabled:hover {\n",
              "    background-color: var(--disabled-bg-color);\n",
              "    fill: var(--disabled-fill-color);\n",
              "    box-shadow: none;\n",
              "  }\n",
              "\n",
              "  .colab-df-spinner {\n",
              "    border: 2px solid var(--fill-color);\n",
              "    border-color: transparent;\n",
              "    border-bottom-color: var(--fill-color);\n",
              "    animation:\n",
              "      spin 1s steps(1) infinite;\n",
              "  }\n",
              "\n",
              "  @keyframes spin {\n",
              "    0% {\n",
              "      border-color: transparent;\n",
              "      border-bottom-color: var(--fill-color);\n",
              "      border-left-color: var(--fill-color);\n",
              "    }\n",
              "    20% {\n",
              "      border-color: transparent;\n",
              "      border-left-color: var(--fill-color);\n",
              "      border-top-color: var(--fill-color);\n",
              "    }\n",
              "    30% {\n",
              "      border-color: transparent;\n",
              "      border-left-color: var(--fill-color);\n",
              "      border-top-color: var(--fill-color);\n",
              "      border-right-color: var(--fill-color);\n",
              "    }\n",
              "    40% {\n",
              "      border-color: transparent;\n",
              "      border-right-color: var(--fill-color);\n",
              "      border-top-color: var(--fill-color);\n",
              "    }\n",
              "    60% {\n",
              "      border-color: transparent;\n",
              "      border-right-color: var(--fill-color);\n",
              "    }\n",
              "    80% {\n",
              "      border-color: transparent;\n",
              "      border-right-color: var(--fill-color);\n",
              "      border-bottom-color: var(--fill-color);\n",
              "    }\n",
              "    90% {\n",
              "      border-color: transparent;\n",
              "      border-bottom-color: var(--fill-color);\n",
              "    }\n",
              "  }\n",
              "</style>\n",
              "\n",
              "  <script>\n",
              "    async function quickchart(key) {\n",
              "      const quickchartButtonEl =\n",
              "        document.querySelector('#' + key + ' button');\n",
              "      quickchartButtonEl.disabled = true;  // To prevent multiple clicks.\n",
              "      quickchartButtonEl.classList.add('colab-df-spinner');\n",
              "      try {\n",
              "        const charts = await google.colab.kernel.invokeFunction(\n",
              "            'suggestCharts', [key], {});\n",
              "      } catch (error) {\n",
              "        console.error('Error during call to suggestCharts:', error);\n",
              "      }\n",
              "      quickchartButtonEl.classList.remove('colab-df-spinner');\n",
              "      quickchartButtonEl.classList.add('colab-df-quickchart-complete');\n",
              "    }\n",
              "    (() => {\n",
              "      let quickchartButtonEl =\n",
              "        document.querySelector('#df-5dc743c8-03e4-4661-ab16-ab4afe44029c button');\n",
              "      quickchartButtonEl.style.display =\n",
              "        google.colab.kernel.accessAllowed ? 'block' : 'none';\n",
              "    })();\n",
              "  </script>\n",
              "</div>\n",
              "\n",
              "    </div>\n",
              "  </div>\n"
            ],
            "application/vnd.google.colaboratory.intrinsic+json": {
              "type": "dataframe",
              "variable_name": "dataset",
              "summary": "{\n  \"name\": \"dataset\",\n  \"rows\": 918,\n  \"fields\": [\n    {\n      \"column\": \"Age\",\n      \"properties\": {\n        \"dtype\": \"number\",\n        \"std\": 9,\n        \"min\": 28,\n        \"max\": 77,\n        \"num_unique_values\": 50,\n        \"samples\": [\n          44,\n          68,\n          66\n        ],\n        \"semantic_type\": \"\",\n        \"description\": \"\"\n      }\n    },\n    {\n      \"column\": \"Sex\",\n      \"properties\": {\n        \"dtype\": \"category\",\n        \"num_unique_values\": 2,\n        \"samples\": [\n          \"F\",\n          \"M\"\n        ],\n        \"semantic_type\": \"\",\n        \"description\": \"\"\n      }\n    },\n    {\n      \"column\": \"ChestPainType\",\n      \"properties\": {\n        \"dtype\": \"category\",\n        \"num_unique_values\": 4,\n        \"samples\": [\n          \"NAP\",\n          \"TA\"\n        ],\n        \"semantic_type\": \"\",\n        \"description\": \"\"\n      }\n    },\n    {\n      \"column\": \"RestingBP\",\n      \"properties\": {\n        \"dtype\": \"number\",\n        \"std\": 18,\n        \"min\": 0,\n        \"max\": 200,\n        \"num_unique_values\": 67,\n        \"samples\": [\n          165,\n          118\n        ],\n        \"semantic_type\": \"\",\n        \"description\": \"\"\n      }\n    },\n    {\n      \"column\": \"Cholesterol\",\n      \"properties\": {\n        \"dtype\": \"number\",\n        \"std\": 109,\n        \"min\": 0,\n        \"max\": 603,\n        \"num_unique_values\": 222,\n        \"samples\": [\n          305,\n          321\n        ],\n        \"semantic_type\": \"\",\n        \"description\": \"\"\n      }\n    },\n    {\n      \"column\": \"FastingBS\",\n      \"properties\": {\n        \"dtype\": \"number\",\n        \"std\": 0,\n        \"min\": 0,\n        \"max\": 1,\n        \"num_unique_values\": 2,\n        \"samples\": [\n          1,\n          0\n        ],\n        \"semantic_type\": \"\",\n        \"description\": \"\"\n      }\n    },\n    {\n      \"column\": \"RestingECG\",\n      \"properties\": {\n        \"dtype\": \"category\",\n        \"num_unique_values\": 3,\n        \"samples\": [\n          \"Normal\",\n          \"ST\"\n        ],\n        \"semantic_type\": \"\",\n        \"description\": \"\"\n      }\n    },\n    {\n      \"column\": \"MaxHR\",\n      \"properties\": {\n        \"dtype\": \"number\",\n        \"std\": 25,\n        \"min\": 60,\n        \"max\": 202,\n        \"num_unique_values\": 119,\n        \"samples\": [\n          132,\n          157\n        ],\n        \"semantic_type\": \"\",\n        \"description\": \"\"\n      }\n    },\n    {\n      \"column\": \"ExerciseAngina\",\n      \"properties\": {\n        \"dtype\": \"category\",\n        \"num_unique_values\": 2,\n        \"samples\": [\n          \"Y\",\n          \"N\"\n        ],\n        \"semantic_type\": \"\",\n        \"description\": \"\"\n      }\n    },\n    {\n      \"column\": \"Oldpeak\",\n      \"properties\": {\n        \"dtype\": \"number\",\n        \"std\": 1.0665701510493257,\n        \"min\": -2.6,\n        \"max\": 6.2,\n        \"num_unique_values\": 53,\n        \"samples\": [\n          1.3,\n          0.6\n        ],\n        \"semantic_type\": \"\",\n        \"description\": \"\"\n      }\n    },\n    {\n      \"column\": \"ST_Slope\",\n      \"properties\": {\n        \"dtype\": \"category\",\n        \"num_unique_values\": 3,\n        \"samples\": [\n          \"Up\",\n          \"Flat\"\n        ],\n        \"semantic_type\": \"\",\n        \"description\": \"\"\n      }\n    },\n    {\n      \"column\": \"HeartDisease\",\n      \"properties\": {\n        \"dtype\": \"number\",\n        \"std\": 0,\n        \"min\": 0,\n        \"max\": 1,\n        \"num_unique_values\": 2,\n        \"samples\": [\n          1,\n          0\n        ],\n        \"semantic_type\": \"\",\n        \"description\": \"\"\n      }\n    },\n    {\n      \"column\": \"Chestpaintype_num\",\n      \"properties\": {\n        \"dtype\": \"number\",\n        \"std\": 0,\n        \"min\": 0,\n        \"max\": 3,\n        \"num_unique_values\": 4,\n        \"samples\": [\n          2,\n          3\n        ],\n        \"semantic_type\": \"\",\n        \"description\": \"\"\n      }\n    },\n    {\n      \"column\": \"Sex_num\",\n      \"properties\": {\n        \"dtype\": \"number\",\n        \"std\": 0,\n        \"min\": 0,\n        \"max\": 1,\n        \"num_unique_values\": 2,\n        \"samples\": [\n          0,\n          1\n        ],\n        \"semantic_type\": \"\",\n        \"description\": \"\"\n      }\n    },\n    {\n      \"column\": \"RestingECG_num\",\n      \"properties\": {\n        \"dtype\": \"number\",\n        \"std\": 0,\n        \"min\": 0,\n        \"max\": 2,\n        \"num_unique_values\": 3,\n        \"samples\": [\n          1,\n          2\n        ],\n        \"semantic_type\": \"\",\n        \"description\": \"\"\n      }\n    },\n    {\n      \"column\": \"ExerciseAngina_num\",\n      \"properties\": {\n        \"dtype\": \"number\",\n        \"std\": 0,\n        \"min\": 0,\n        \"max\": 1,\n        \"num_unique_values\": 2,\n        \"samples\": [\n          1,\n          0\n        ],\n        \"semantic_type\": \"\",\n        \"description\": \"\"\n      }\n    },\n    {\n      \"column\": \"ST_Slope_num\",\n      \"properties\": {\n        \"dtype\": \"number\",\n        \"std\": 0,\n        \"min\": 0,\n        \"max\": 2,\n        \"num_unique_values\": 3,\n        \"samples\": [\n          2,\n          1\n        ],\n        \"semantic_type\": \"\",\n        \"description\": \"\"\n      }\n    }\n  ]\n}"
            }
          },
          "metadata": {},
          "execution_count": 38
        }
      ]
    },
    {
      "cell_type": "code",
      "source": [
        "#Seperating Features and target variable\n",
        "X=dataset.drop(columns=[\"Sex\",\"ChestPainType\",\"RestingECG\",\"ExerciseAngina\",\"HeartDisease\",\"ST_Slope\"])\n",
        "Y=dataset['HeartDisease']"
      ],
      "metadata": {
        "id": "1Iu2LQFwPNTN",
        "execution": {
          "iopub.status.busy": "2024-08-02T12:37:41.158196Z",
          "iopub.execute_input": "2024-08-02T12:37:41.158622Z",
          "iopub.status.idle": "2024-08-02T12:37:41.168080Z",
          "shell.execute_reply.started": "2024-08-02T12:37:41.158584Z",
          "shell.execute_reply": "2024-08-02T12:37:41.167192Z"
        },
        "trusted": true
      },
      "execution_count": 39,
      "outputs": []
    },
    {
      "cell_type": "code",
      "source": [
        "print(X)"
      ],
      "metadata": {
        "cellView": "code",
        "colab": {
          "base_uri": "https://localhost:8080/"
        },
        "id": "VfA884-XRoqy",
        "outputId": "028ff15a-63f9-4b63-b285-feff91ad80d2",
        "execution": {
          "iopub.status.busy": "2024-08-02T12:39:18.941397Z",
          "iopub.execute_input": "2024-08-02T12:39:18.942078Z",
          "iopub.status.idle": "2024-08-02T12:39:18.952221Z",
          "shell.execute_reply.started": "2024-08-02T12:39:18.942045Z",
          "shell.execute_reply": "2024-08-02T12:39:18.951147Z"
        },
        "trusted": true
      },
      "execution_count": 40,
      "outputs": [
        {
          "output_type": "stream",
          "name": "stdout",
          "text": [
            "     Age  RestingBP  Cholesterol  FastingBS  MaxHR  Oldpeak  \\\n",
            "0     40        140          289          0    172      0.0   \n",
            "1     49        160          180          0    156      1.0   \n",
            "2     37        130          283          0     98      0.0   \n",
            "3     48        138          214          0    108      1.5   \n",
            "4     54        150          195          0    122      0.0   \n",
            "..   ...        ...          ...        ...    ...      ...   \n",
            "913   45        110          264          0    132      1.2   \n",
            "914   68        144          193          1    141      3.4   \n",
            "915   57        130          131          0    115      1.2   \n",
            "916   57        130          236          0    174      0.0   \n",
            "917   38        138          175          0    173      0.0   \n",
            "\n",
            "     Chestpaintype_num  Sex_num  RestingECG_num  ExerciseAngina_num  \\\n",
            "0                    1        1               1                   0   \n",
            "1                    2        0               1                   0   \n",
            "2                    1        1               2                   0   \n",
            "3                    0        0               1                   1   \n",
            "4                    2        1               1                   0   \n",
            "..                 ...      ...             ...                 ...   \n",
            "913                  3        1               1                   0   \n",
            "914                  0        1               1                   0   \n",
            "915                  0        1               1                   1   \n",
            "916                  1        0               0                   0   \n",
            "917                  2        1               1                   0   \n",
            "\n",
            "     ST_Slope_num  \n",
            "0               2  \n",
            "1               1  \n",
            "2               2  \n",
            "3               1  \n",
            "4               2  \n",
            "..            ...  \n",
            "913             1  \n",
            "914             1  \n",
            "915             1  \n",
            "916             1  \n",
            "917             2  \n",
            "\n",
            "[918 rows x 11 columns]\n"
          ]
        }
      ]
    },
    {
      "cell_type": "code",
      "source": [
        "print(Y)"
      ],
      "metadata": {
        "colab": {
          "base_uri": "https://localhost:8080/"
        },
        "id": "4-6F8DGYTCy1",
        "outputId": "89e056c4-5394-49aa-d12c-d225dfc1b287",
        "execution": {
          "iopub.status.busy": "2024-08-02T12:37:41.184010Z",
          "iopub.execute_input": "2024-08-02T12:37:41.184392Z",
          "iopub.status.idle": "2024-08-02T12:37:41.193792Z",
          "shell.execute_reply.started": "2024-08-02T12:37:41.184363Z",
          "shell.execute_reply": "2024-08-02T12:37:41.192863Z"
        },
        "trusted": true
      },
      "execution_count": 41,
      "outputs": [
        {
          "output_type": "stream",
          "name": "stdout",
          "text": [
            "0      0\n",
            "1      1\n",
            "2      0\n",
            "3      1\n",
            "4      0\n",
            "      ..\n",
            "913    1\n",
            "914    1\n",
            "915    1\n",
            "916    1\n",
            "917    0\n",
            "Name: HeartDisease, Length: 918, dtype: int64\n"
          ]
        }
      ]
    },
    {
      "cell_type": "markdown",
      "source": [
        "# Performing Feature Selection\n",
        "# Checking Correlation"
      ],
      "metadata": {
        "id": "OGH5Bod-Ypk9"
      }
    },
    {
      "cell_type": "code",
      "source": [
        "desired_columns_order = dataset.columns.tolist()  # Get all columns in the original order\n",
        "# Remove multiple columns one by one\n",
        "columns_to_remove = [\"Sex\",\"ChestPainType\",\"RestingECG\",\"ExerciseAngina\",\"HeartDisease\",\"ST_Slope\"]\n",
        "for column in columns_to_remove:\n",
        "    desired_columns_order.remove(column)\n",
        "\n",
        "# Append 'HeartDisease' at the end of the list\n",
        "desired_columns_order.append('HeartDisease')\n",
        "\n",
        "# Rearrange columns using the `loc` method\n",
        "dataset_c = dataset.loc[:, desired_columns_order]\n",
        "\n",
        "# Calculate correlation\n",
        "correlation=dataset_c.corr()\n",
        "correlation"
      ],
      "metadata": {
        "colab": {
          "base_uri": "https://localhost:8080/",
          "height": 446
        },
        "id": "9S4XEltCYpk-",
        "outputId": "45a4e19b-5c48-4b0b-a825-574f861a3312",
        "execution": {
          "iopub.status.busy": "2024-08-02T12:39:26.082073Z",
          "iopub.execute_input": "2024-08-02T12:39:26.082823Z",
          "iopub.status.idle": "2024-08-02T12:39:26.181720Z",
          "shell.execute_reply.started": "2024-08-02T12:39:26.082785Z",
          "shell.execute_reply": "2024-08-02T12:39:26.180431Z"
        },
        "trusted": true
      },
      "execution_count": 42,
      "outputs": [
        {
          "output_type": "execute_result",
          "data": {
            "text/plain": [
              "                         Age  RestingBP  Cholesterol  FastingBS     MaxHR  \\\n",
              "Age                 1.000000   0.254399    -0.095282   0.198039 -0.382045   \n",
              "RestingBP           0.254399   1.000000     0.100893   0.070193 -0.112135   \n",
              "Cholesterol        -0.095282   0.100893     1.000000  -0.260974  0.235792   \n",
              "FastingBS           0.198039   0.070193    -0.260974   1.000000 -0.131438   \n",
              "MaxHR              -0.382045  -0.112135     0.235792  -0.131438  1.000000   \n",
              "Oldpeak             0.258612   0.164803     0.050148   0.052698 -0.160691   \n",
              "Chestpaintype_num  -0.077150  -0.020647     0.067880  -0.073151  0.289123   \n",
              "Sex_num             0.055750   0.005133    -0.200092   0.120076 -0.189186   \n",
              "RestingECG_num     -0.007484   0.022656    -0.196544   0.087050 -0.179276   \n",
              "ExerciseAngina_num  0.215793   0.155101    -0.034166   0.060451 -0.370425   \n",
              "ST_Slope_num       -0.268264  -0.075162     0.111471  -0.175774  0.343419   \n",
              "HeartDisease        0.282039   0.107589    -0.232741   0.267291 -0.400421   \n",
              "\n",
              "                     Oldpeak  Chestpaintype_num   Sex_num  RestingECG_num  \\\n",
              "Age                 0.258612          -0.077150  0.055750       -0.007484   \n",
              "RestingBP           0.164803          -0.020647  0.005133        0.022656   \n",
              "Cholesterol         0.050148           0.067880 -0.200092       -0.196544   \n",
              "FastingBS           0.052698          -0.073151  0.120076        0.087050   \n",
              "MaxHR              -0.160691           0.289123 -0.189186       -0.179276   \n",
              "Oldpeak             1.000000          -0.177377  0.105734       -0.020438   \n",
              "Chestpaintype_num  -0.177377           1.000000 -0.126559       -0.072537   \n",
              "Sex_num             0.105734          -0.126559  1.000000        0.071552   \n",
              "RestingECG_num     -0.020438          -0.072537  0.071552        1.000000   \n",
              "ExerciseAngina_num  0.408752          -0.354727  0.190664        0.077500   \n",
              "ST_Slope_num       -0.501921           0.213521 -0.150693       -0.006778   \n",
              "HeartDisease        0.403951          -0.386828  0.305445        0.057384   \n",
              "\n",
              "                    ExerciseAngina_num  ST_Slope_num  HeartDisease  \n",
              "Age                           0.215793     -0.268264      0.282039  \n",
              "RestingBP                     0.155101     -0.075162      0.107589  \n",
              "Cholesterol                  -0.034166      0.111471     -0.232741  \n",
              "FastingBS                     0.060451     -0.175774      0.267291  \n",
              "MaxHR                        -0.370425      0.343419     -0.400421  \n",
              "Oldpeak                       0.408752     -0.501921      0.403951  \n",
              "Chestpaintype_num            -0.354727      0.213521     -0.386828  \n",
              "Sex_num                       0.190664     -0.150693      0.305445  \n",
              "RestingECG_num                0.077500     -0.006778      0.057384  \n",
              "ExerciseAngina_num            1.000000     -0.428706      0.494282  \n",
              "ST_Slope_num                 -0.428706      1.000000     -0.558771  \n",
              "HeartDisease                  0.494282     -0.558771      1.000000  "
            ],
            "text/html": [
              "\n",
              "  <div id=\"df-4014aac8-fd98-4a19-8a21-1b918d3429c8\" class=\"colab-df-container\">\n",
              "    <div>\n",
              "<style scoped>\n",
              "    .dataframe tbody tr th:only-of-type {\n",
              "        vertical-align: middle;\n",
              "    }\n",
              "\n",
              "    .dataframe tbody tr th {\n",
              "        vertical-align: top;\n",
              "    }\n",
              "\n",
              "    .dataframe thead th {\n",
              "        text-align: right;\n",
              "    }\n",
              "</style>\n",
              "<table border=\"1\" class=\"dataframe\">\n",
              "  <thead>\n",
              "    <tr style=\"text-align: right;\">\n",
              "      <th></th>\n",
              "      <th>Age</th>\n",
              "      <th>RestingBP</th>\n",
              "      <th>Cholesterol</th>\n",
              "      <th>FastingBS</th>\n",
              "      <th>MaxHR</th>\n",
              "      <th>Oldpeak</th>\n",
              "      <th>Chestpaintype_num</th>\n",
              "      <th>Sex_num</th>\n",
              "      <th>RestingECG_num</th>\n",
              "      <th>ExerciseAngina_num</th>\n",
              "      <th>ST_Slope_num</th>\n",
              "      <th>HeartDisease</th>\n",
              "    </tr>\n",
              "  </thead>\n",
              "  <tbody>\n",
              "    <tr>\n",
              "      <th>Age</th>\n",
              "      <td>1.000000</td>\n",
              "      <td>0.254399</td>\n",
              "      <td>-0.095282</td>\n",
              "      <td>0.198039</td>\n",
              "      <td>-0.382045</td>\n",
              "      <td>0.258612</td>\n",
              "      <td>-0.077150</td>\n",
              "      <td>0.055750</td>\n",
              "      <td>-0.007484</td>\n",
              "      <td>0.215793</td>\n",
              "      <td>-0.268264</td>\n",
              "      <td>0.282039</td>\n",
              "    </tr>\n",
              "    <tr>\n",
              "      <th>RestingBP</th>\n",
              "      <td>0.254399</td>\n",
              "      <td>1.000000</td>\n",
              "      <td>0.100893</td>\n",
              "      <td>0.070193</td>\n",
              "      <td>-0.112135</td>\n",
              "      <td>0.164803</td>\n",
              "      <td>-0.020647</td>\n",
              "      <td>0.005133</td>\n",
              "      <td>0.022656</td>\n",
              "      <td>0.155101</td>\n",
              "      <td>-0.075162</td>\n",
              "      <td>0.107589</td>\n",
              "    </tr>\n",
              "    <tr>\n",
              "      <th>Cholesterol</th>\n",
              "      <td>-0.095282</td>\n",
              "      <td>0.100893</td>\n",
              "      <td>1.000000</td>\n",
              "      <td>-0.260974</td>\n",
              "      <td>0.235792</td>\n",
              "      <td>0.050148</td>\n",
              "      <td>0.067880</td>\n",
              "      <td>-0.200092</td>\n",
              "      <td>-0.196544</td>\n",
              "      <td>-0.034166</td>\n",
              "      <td>0.111471</td>\n",
              "      <td>-0.232741</td>\n",
              "    </tr>\n",
              "    <tr>\n",
              "      <th>FastingBS</th>\n",
              "      <td>0.198039</td>\n",
              "      <td>0.070193</td>\n",
              "      <td>-0.260974</td>\n",
              "      <td>1.000000</td>\n",
              "      <td>-0.131438</td>\n",
              "      <td>0.052698</td>\n",
              "      <td>-0.073151</td>\n",
              "      <td>0.120076</td>\n",
              "      <td>0.087050</td>\n",
              "      <td>0.060451</td>\n",
              "      <td>-0.175774</td>\n",
              "      <td>0.267291</td>\n",
              "    </tr>\n",
              "    <tr>\n",
              "      <th>MaxHR</th>\n",
              "      <td>-0.382045</td>\n",
              "      <td>-0.112135</td>\n",
              "      <td>0.235792</td>\n",
              "      <td>-0.131438</td>\n",
              "      <td>1.000000</td>\n",
              "      <td>-0.160691</td>\n",
              "      <td>0.289123</td>\n",
              "      <td>-0.189186</td>\n",
              "      <td>-0.179276</td>\n",
              "      <td>-0.370425</td>\n",
              "      <td>0.343419</td>\n",
              "      <td>-0.400421</td>\n",
              "    </tr>\n",
              "    <tr>\n",
              "      <th>Oldpeak</th>\n",
              "      <td>0.258612</td>\n",
              "      <td>0.164803</td>\n",
              "      <td>0.050148</td>\n",
              "      <td>0.052698</td>\n",
              "      <td>-0.160691</td>\n",
              "      <td>1.000000</td>\n",
              "      <td>-0.177377</td>\n",
              "      <td>0.105734</td>\n",
              "      <td>-0.020438</td>\n",
              "      <td>0.408752</td>\n",
              "      <td>-0.501921</td>\n",
              "      <td>0.403951</td>\n",
              "    </tr>\n",
              "    <tr>\n",
              "      <th>Chestpaintype_num</th>\n",
              "      <td>-0.077150</td>\n",
              "      <td>-0.020647</td>\n",
              "      <td>0.067880</td>\n",
              "      <td>-0.073151</td>\n",
              "      <td>0.289123</td>\n",
              "      <td>-0.177377</td>\n",
              "      <td>1.000000</td>\n",
              "      <td>-0.126559</td>\n",
              "      <td>-0.072537</td>\n",
              "      <td>-0.354727</td>\n",
              "      <td>0.213521</td>\n",
              "      <td>-0.386828</td>\n",
              "    </tr>\n",
              "    <tr>\n",
              "      <th>Sex_num</th>\n",
              "      <td>0.055750</td>\n",
              "      <td>0.005133</td>\n",
              "      <td>-0.200092</td>\n",
              "      <td>0.120076</td>\n",
              "      <td>-0.189186</td>\n",
              "      <td>0.105734</td>\n",
              "      <td>-0.126559</td>\n",
              "      <td>1.000000</td>\n",
              "      <td>0.071552</td>\n",
              "      <td>0.190664</td>\n",
              "      <td>-0.150693</td>\n",
              "      <td>0.305445</td>\n",
              "    </tr>\n",
              "    <tr>\n",
              "      <th>RestingECG_num</th>\n",
              "      <td>-0.007484</td>\n",
              "      <td>0.022656</td>\n",
              "      <td>-0.196544</td>\n",
              "      <td>0.087050</td>\n",
              "      <td>-0.179276</td>\n",
              "      <td>-0.020438</td>\n",
              "      <td>-0.072537</td>\n",
              "      <td>0.071552</td>\n",
              "      <td>1.000000</td>\n",
              "      <td>0.077500</td>\n",
              "      <td>-0.006778</td>\n",
              "      <td>0.057384</td>\n",
              "    </tr>\n",
              "    <tr>\n",
              "      <th>ExerciseAngina_num</th>\n",
              "      <td>0.215793</td>\n",
              "      <td>0.155101</td>\n",
              "      <td>-0.034166</td>\n",
              "      <td>0.060451</td>\n",
              "      <td>-0.370425</td>\n",
              "      <td>0.408752</td>\n",
              "      <td>-0.354727</td>\n",
              "      <td>0.190664</td>\n",
              "      <td>0.077500</td>\n",
              "      <td>1.000000</td>\n",
              "      <td>-0.428706</td>\n",
              "      <td>0.494282</td>\n",
              "    </tr>\n",
              "    <tr>\n",
              "      <th>ST_Slope_num</th>\n",
              "      <td>-0.268264</td>\n",
              "      <td>-0.075162</td>\n",
              "      <td>0.111471</td>\n",
              "      <td>-0.175774</td>\n",
              "      <td>0.343419</td>\n",
              "      <td>-0.501921</td>\n",
              "      <td>0.213521</td>\n",
              "      <td>-0.150693</td>\n",
              "      <td>-0.006778</td>\n",
              "      <td>-0.428706</td>\n",
              "      <td>1.000000</td>\n",
              "      <td>-0.558771</td>\n",
              "    </tr>\n",
              "    <tr>\n",
              "      <th>HeartDisease</th>\n",
              "      <td>0.282039</td>\n",
              "      <td>0.107589</td>\n",
              "      <td>-0.232741</td>\n",
              "      <td>0.267291</td>\n",
              "      <td>-0.400421</td>\n",
              "      <td>0.403951</td>\n",
              "      <td>-0.386828</td>\n",
              "      <td>0.305445</td>\n",
              "      <td>0.057384</td>\n",
              "      <td>0.494282</td>\n",
              "      <td>-0.558771</td>\n",
              "      <td>1.000000</td>\n",
              "    </tr>\n",
              "  </tbody>\n",
              "</table>\n",
              "</div>\n",
              "    <div class=\"colab-df-buttons\">\n",
              "\n",
              "  <div class=\"colab-df-container\">\n",
              "    <button class=\"colab-df-convert\" onclick=\"convertToInteractive('df-4014aac8-fd98-4a19-8a21-1b918d3429c8')\"\n",
              "            title=\"Convert this dataframe to an interactive table.\"\n",
              "            style=\"display:none;\">\n",
              "\n",
              "  <svg xmlns=\"http://www.w3.org/2000/svg\" height=\"24px\" viewBox=\"0 -960 960 960\">\n",
              "    <path d=\"M120-120v-720h720v720H120Zm60-500h600v-160H180v160Zm220 220h160v-160H400v160Zm0 220h160v-160H400v160ZM180-400h160v-160H180v160Zm440 0h160v-160H620v160ZM180-180h160v-160H180v160Zm440 0h160v-160H620v160Z\"/>\n",
              "  </svg>\n",
              "    </button>\n",
              "\n",
              "  <style>\n",
              "    .colab-df-container {\n",
              "      display:flex;\n",
              "      gap: 12px;\n",
              "    }\n",
              "\n",
              "    .colab-df-convert {\n",
              "      background-color: #E8F0FE;\n",
              "      border: none;\n",
              "      border-radius: 50%;\n",
              "      cursor: pointer;\n",
              "      display: none;\n",
              "      fill: #1967D2;\n",
              "      height: 32px;\n",
              "      padding: 0 0 0 0;\n",
              "      width: 32px;\n",
              "    }\n",
              "\n",
              "    .colab-df-convert:hover {\n",
              "      background-color: #E2EBFA;\n",
              "      box-shadow: 0px 1px 2px rgba(60, 64, 67, 0.3), 0px 1px 3px 1px rgba(60, 64, 67, 0.15);\n",
              "      fill: #174EA6;\n",
              "    }\n",
              "\n",
              "    .colab-df-buttons div {\n",
              "      margin-bottom: 4px;\n",
              "    }\n",
              "\n",
              "    [theme=dark] .colab-df-convert {\n",
              "      background-color: #3B4455;\n",
              "      fill: #D2E3FC;\n",
              "    }\n",
              "\n",
              "    [theme=dark] .colab-df-convert:hover {\n",
              "      background-color: #434B5C;\n",
              "      box-shadow: 0px 1px 3px 1px rgba(0, 0, 0, 0.15);\n",
              "      filter: drop-shadow(0px 1px 2px rgba(0, 0, 0, 0.3));\n",
              "      fill: #FFFFFF;\n",
              "    }\n",
              "  </style>\n",
              "\n",
              "    <script>\n",
              "      const buttonEl =\n",
              "        document.querySelector('#df-4014aac8-fd98-4a19-8a21-1b918d3429c8 button.colab-df-convert');\n",
              "      buttonEl.style.display =\n",
              "        google.colab.kernel.accessAllowed ? 'block' : 'none';\n",
              "\n",
              "      async function convertToInteractive(key) {\n",
              "        const element = document.querySelector('#df-4014aac8-fd98-4a19-8a21-1b918d3429c8');\n",
              "        const dataTable =\n",
              "          await google.colab.kernel.invokeFunction('convertToInteractive',\n",
              "                                                    [key], {});\n",
              "        if (!dataTable) return;\n",
              "\n",
              "        const docLinkHtml = 'Like what you see? Visit the ' +\n",
              "          '<a target=\"_blank\" href=https://colab.research.google.com/notebooks/data_table.ipynb>data table notebook</a>'\n",
              "          + ' to learn more about interactive tables.';\n",
              "        element.innerHTML = '';\n",
              "        dataTable['output_type'] = 'display_data';\n",
              "        await google.colab.output.renderOutput(dataTable, element);\n",
              "        const docLink = document.createElement('div');\n",
              "        docLink.innerHTML = docLinkHtml;\n",
              "        element.appendChild(docLink);\n",
              "      }\n",
              "    </script>\n",
              "  </div>\n",
              "\n",
              "\n",
              "<div id=\"df-cc42cdec-a1d2-4e05-8e50-5b561a49a578\">\n",
              "  <button class=\"colab-df-quickchart\" onclick=\"quickchart('df-cc42cdec-a1d2-4e05-8e50-5b561a49a578')\"\n",
              "            title=\"Suggest charts\"\n",
              "            style=\"display:none;\">\n",
              "\n",
              "<svg xmlns=\"http://www.w3.org/2000/svg\" height=\"24px\"viewBox=\"0 0 24 24\"\n",
              "     width=\"24px\">\n",
              "    <g>\n",
              "        <path d=\"M19 3H5c-1.1 0-2 .9-2 2v14c0 1.1.9 2 2 2h14c1.1 0 2-.9 2-2V5c0-1.1-.9-2-2-2zM9 17H7v-7h2v7zm4 0h-2V7h2v10zm4 0h-2v-4h2v4z\"/>\n",
              "    </g>\n",
              "</svg>\n",
              "  </button>\n",
              "\n",
              "<style>\n",
              "  .colab-df-quickchart {\n",
              "      --bg-color: #E8F0FE;\n",
              "      --fill-color: #1967D2;\n",
              "      --hover-bg-color: #E2EBFA;\n",
              "      --hover-fill-color: #174EA6;\n",
              "      --disabled-fill-color: #AAA;\n",
              "      --disabled-bg-color: #DDD;\n",
              "  }\n",
              "\n",
              "  [theme=dark] .colab-df-quickchart {\n",
              "      --bg-color: #3B4455;\n",
              "      --fill-color: #D2E3FC;\n",
              "      --hover-bg-color: #434B5C;\n",
              "      --hover-fill-color: #FFFFFF;\n",
              "      --disabled-bg-color: #3B4455;\n",
              "      --disabled-fill-color: #666;\n",
              "  }\n",
              "\n",
              "  .colab-df-quickchart {\n",
              "    background-color: var(--bg-color);\n",
              "    border: none;\n",
              "    border-radius: 50%;\n",
              "    cursor: pointer;\n",
              "    display: none;\n",
              "    fill: var(--fill-color);\n",
              "    height: 32px;\n",
              "    padding: 0;\n",
              "    width: 32px;\n",
              "  }\n",
              "\n",
              "  .colab-df-quickchart:hover {\n",
              "    background-color: var(--hover-bg-color);\n",
              "    box-shadow: 0 1px 2px rgba(60, 64, 67, 0.3), 0 1px 3px 1px rgba(60, 64, 67, 0.15);\n",
              "    fill: var(--button-hover-fill-color);\n",
              "  }\n",
              "\n",
              "  .colab-df-quickchart-complete:disabled,\n",
              "  .colab-df-quickchart-complete:disabled:hover {\n",
              "    background-color: var(--disabled-bg-color);\n",
              "    fill: var(--disabled-fill-color);\n",
              "    box-shadow: none;\n",
              "  }\n",
              "\n",
              "  .colab-df-spinner {\n",
              "    border: 2px solid var(--fill-color);\n",
              "    border-color: transparent;\n",
              "    border-bottom-color: var(--fill-color);\n",
              "    animation:\n",
              "      spin 1s steps(1) infinite;\n",
              "  }\n",
              "\n",
              "  @keyframes spin {\n",
              "    0% {\n",
              "      border-color: transparent;\n",
              "      border-bottom-color: var(--fill-color);\n",
              "      border-left-color: var(--fill-color);\n",
              "    }\n",
              "    20% {\n",
              "      border-color: transparent;\n",
              "      border-left-color: var(--fill-color);\n",
              "      border-top-color: var(--fill-color);\n",
              "    }\n",
              "    30% {\n",
              "      border-color: transparent;\n",
              "      border-left-color: var(--fill-color);\n",
              "      border-top-color: var(--fill-color);\n",
              "      border-right-color: var(--fill-color);\n",
              "    }\n",
              "    40% {\n",
              "      border-color: transparent;\n",
              "      border-right-color: var(--fill-color);\n",
              "      border-top-color: var(--fill-color);\n",
              "    }\n",
              "    60% {\n",
              "      border-color: transparent;\n",
              "      border-right-color: var(--fill-color);\n",
              "    }\n",
              "    80% {\n",
              "      border-color: transparent;\n",
              "      border-right-color: var(--fill-color);\n",
              "      border-bottom-color: var(--fill-color);\n",
              "    }\n",
              "    90% {\n",
              "      border-color: transparent;\n",
              "      border-bottom-color: var(--fill-color);\n",
              "    }\n",
              "  }\n",
              "</style>\n",
              "\n",
              "  <script>\n",
              "    async function quickchart(key) {\n",
              "      const quickchartButtonEl =\n",
              "        document.querySelector('#' + key + ' button');\n",
              "      quickchartButtonEl.disabled = true;  // To prevent multiple clicks.\n",
              "      quickchartButtonEl.classList.add('colab-df-spinner');\n",
              "      try {\n",
              "        const charts = await google.colab.kernel.invokeFunction(\n",
              "            'suggestCharts', [key], {});\n",
              "      } catch (error) {\n",
              "        console.error('Error during call to suggestCharts:', error);\n",
              "      }\n",
              "      quickchartButtonEl.classList.remove('colab-df-spinner');\n",
              "      quickchartButtonEl.classList.add('colab-df-quickchart-complete');\n",
              "    }\n",
              "    (() => {\n",
              "      let quickchartButtonEl =\n",
              "        document.querySelector('#df-cc42cdec-a1d2-4e05-8e50-5b561a49a578 button');\n",
              "      quickchartButtonEl.style.display =\n",
              "        google.colab.kernel.accessAllowed ? 'block' : 'none';\n",
              "    })();\n",
              "  </script>\n",
              "</div>\n",
              "\n",
              "  <div id=\"id_527c1c4f-d3a6-4182-938f-610c6fa325fb\">\n",
              "    <style>\n",
              "      .colab-df-generate {\n",
              "        background-color: #E8F0FE;\n",
              "        border: none;\n",
              "        border-radius: 50%;\n",
              "        cursor: pointer;\n",
              "        display: none;\n",
              "        fill: #1967D2;\n",
              "        height: 32px;\n",
              "        padding: 0 0 0 0;\n",
              "        width: 32px;\n",
              "      }\n",
              "\n",
              "      .colab-df-generate:hover {\n",
              "        background-color: #E2EBFA;\n",
              "        box-shadow: 0px 1px 2px rgba(60, 64, 67, 0.3), 0px 1px 3px 1px rgba(60, 64, 67, 0.15);\n",
              "        fill: #174EA6;\n",
              "      }\n",
              "\n",
              "      [theme=dark] .colab-df-generate {\n",
              "        background-color: #3B4455;\n",
              "        fill: #D2E3FC;\n",
              "      }\n",
              "\n",
              "      [theme=dark] .colab-df-generate:hover {\n",
              "        background-color: #434B5C;\n",
              "        box-shadow: 0px 1px 3px 1px rgba(0, 0, 0, 0.15);\n",
              "        filter: drop-shadow(0px 1px 2px rgba(0, 0, 0, 0.3));\n",
              "        fill: #FFFFFF;\n",
              "      }\n",
              "    </style>\n",
              "    <button class=\"colab-df-generate\" onclick=\"generateWithVariable('correlation')\"\n",
              "            title=\"Generate code using this dataframe.\"\n",
              "            style=\"display:none;\">\n",
              "\n",
              "  <svg xmlns=\"http://www.w3.org/2000/svg\" height=\"24px\"viewBox=\"0 0 24 24\"\n",
              "       width=\"24px\">\n",
              "    <path d=\"M7,19H8.4L18.45,9,17,7.55,7,17.6ZM5,21V16.75L18.45,3.32a2,2,0,0,1,2.83,0l1.4,1.43a1.91,1.91,0,0,1,.58,1.4,1.91,1.91,0,0,1-.58,1.4L9.25,21ZM18.45,9,17,7.55Zm-12,3A5.31,5.31,0,0,0,4.9,8.1,5.31,5.31,0,0,0,1,6.5,5.31,5.31,0,0,0,4.9,4.9,5.31,5.31,0,0,0,6.5,1,5.31,5.31,0,0,0,8.1,4.9,5.31,5.31,0,0,0,12,6.5,5.46,5.46,0,0,0,6.5,12Z\"/>\n",
              "  </svg>\n",
              "    </button>\n",
              "    <script>\n",
              "      (() => {\n",
              "      const buttonEl =\n",
              "        document.querySelector('#id_527c1c4f-d3a6-4182-938f-610c6fa325fb button.colab-df-generate');\n",
              "      buttonEl.style.display =\n",
              "        google.colab.kernel.accessAllowed ? 'block' : 'none';\n",
              "\n",
              "      buttonEl.onclick = () => {\n",
              "        google.colab.notebook.generateWithVariable('correlation');\n",
              "      }\n",
              "      })();\n",
              "    </script>\n",
              "  </div>\n",
              "\n",
              "    </div>\n",
              "  </div>\n"
            ],
            "application/vnd.google.colaboratory.intrinsic+json": {
              "type": "dataframe",
              "variable_name": "correlation",
              "summary": "{\n  \"name\": \"correlation\",\n  \"rows\": 12,\n  \"fields\": [\n    {\n      \"column\": \"Age\",\n      \"properties\": {\n        \"dtype\": \"number\",\n        \"std\": 0.35182497965844317,\n        \"min\": -0.3820446750319701,\n        \"max\": 1.0,\n        \"num_unique_values\": 12,\n        \"samples\": [\n          -0.26826399446947874,\n          0.21579269076374738,\n          1.0\n        ],\n        \"semantic_type\": \"\",\n        \"description\": \"\"\n      }\n    },\n    {\n      \"column\": \"RestingBP\",\n      \"properties\": {\n        \"dtype\": \"number\",\n        \"std\": 0.2905499867540193,\n        \"min\": -0.11213499711298038,\n        \"max\": 1.0,\n        \"num_unique_values\": 12,\n        \"samples\": [\n          -0.07516217427262277,\n          0.15510108893407876,\n          0.2543993561515428\n        ],\n        \"semantic_type\": \"\",\n        \"description\": \"\"\n      }\n    },\n    {\n      \"column\": \"Cholesterol\",\n      \"properties\": {\n        \"dtype\": \"number\",\n        \"std\": 0.3400047719188634,\n        \"min\": -0.2609743277657631,\n        \"max\": 1.0,\n        \"num_unique_values\": 12,\n        \"samples\": [\n          0.11147053912137672,\n          -0.03416586822679319,\n          -0.09528177118121824\n        ],\n        \"semantic_type\": \"\",\n        \"description\": \"\"\n      }\n    },\n    {\n      \"column\": \"FastingBS\",\n      \"properties\": {\n        \"dtype\": \"number\",\n        \"std\": 0.32231272319796483,\n        \"min\": -0.2609743277657631,\n        \"max\": 1.0,\n        \"num_unique_values\": 12,\n        \"samples\": [\n          -0.17577434311706608,\n          0.06045067478783045,\n          0.19803906586674333\n        ],\n        \"semantic_type\": \"\",\n        \"description\": \"\"\n      }\n    },\n    {\n      \"column\": \"MaxHR\",\n      \"properties\": {\n        \"dtype\": \"number\",\n        \"std\": 0.407203972108859,\n        \"min\": -0.4004207694631906,\n        \"max\": 1.0,\n        \"num_unique_values\": 12,\n        \"samples\": [\n          0.3434194422450201,\n          -0.37042486722649476,\n          -0.3820446750319701\n        ],\n        \"semantic_type\": \"\",\n        \"description\": \"\"\n      }\n    },\n    {\n      \"column\": \"Oldpeak\",\n      \"properties\": {\n        \"dtype\": \"number\",\n        \"std\": 0.37431557306589097,\n        \"min\": -0.5019212695297877,\n        \"max\": 1.0,\n        \"num_unique_values\": 12,\n        \"samples\": [\n          -0.5019212695297877,\n          0.4087524962730173,\n          0.25861153601875636\n        ],\n        \"semantic_type\": \"\",\n        \"description\": \"\"\n      }\n    },\n    {\n      \"column\": \"Chestpaintype_num\",\n      \"properties\": {\n        \"dtype\": \"number\",\n        \"std\": 0.3652052150715565,\n        \"min\": -0.3868276942625641,\n        \"max\": 1.0,\n        \"num_unique_values\": 12,\n        \"samples\": [\n          0.2135212007809225,\n          -0.3547272877673649,\n          -0.07715013150812605\n        ],\n        \"semantic_type\": \"\",\n        \"description\": \"\"\n      }\n    },\n    {\n      \"column\": \"Sex_num\",\n      \"properties\": {\n        \"dtype\": \"number\",\n        \"std\": 0.32480451836686997,\n        \"min\": -0.20009232251637293,\n        \"max\": 1.0,\n        \"num_unique_values\": 12,\n        \"samples\": [\n          -0.15069254439645774,\n          0.1906641022059936,\n          0.055750099177784174\n        ],\n        \"semantic_type\": \"\",\n        \"description\": \"\"\n      }\n    },\n    {\n      \"column\": \"RestingECG_num\",\n      \"properties\": {\n        \"dtype\": \"number\",\n        \"std\": 0.3076633776293819,\n        \"min\": -0.19654373003265738,\n        \"max\": 1.0,\n        \"num_unique_values\": 12,\n        \"samples\": [\n          -0.0067782124477271674,\n          0.07750038919450038,\n          -0.007484033093706916\n        ],\n        \"semantic_type\": \"\",\n        \"description\": \"\"\n      }\n    },\n    {\n      \"column\": \"ExerciseAngina_num\",\n      \"properties\": {\n        \"dtype\": \"number\",\n        \"std\": 0.40556278119824696,\n        \"min\": -0.4287059432893575,\n        \"max\": 1.0,\n        \"num_unique_values\": 12,\n        \"samples\": [\n          -0.4287059432893575,\n          1.0,\n          0.21579269076374738\n        ],\n        \"semantic_type\": \"\",\n        \"description\": \"\"\n      }\n    },\n    {\n      \"column\": \"ST_Slope_num\",\n      \"properties\": {\n        \"dtype\": \"number\",\n        \"std\": 0.4300654771523048,\n        \"min\": -0.5587707148497058,\n        \"max\": 1.0,\n        \"num_unique_values\": 12,\n        \"samples\": [\n          1.0,\n          -0.4287059432893575,\n          -0.26826399446947874\n        ],\n        \"semantic_type\": \"\",\n        \"description\": \"\"\n      }\n    },\n    {\n      \"column\": \"HeartDisease\",\n      \"properties\": {\n        \"dtype\": \"number\",\n        \"std\": 0.4465577558697124,\n        \"min\": -0.5587707148497058,\n        \"max\": 1.0,\n        \"num_unique_values\": 12,\n        \"samples\": [\n          -0.5587707148497058,\n          0.4942819918242684,\n          0.2820385058189964\n        ],\n        \"semantic_type\": \"\",\n        \"description\": \"\"\n      }\n    }\n  ]\n}"
            }
          },
          "metadata": {},
          "execution_count": 42
        }
      ]
    },
    {
      "cell_type": "code",
      "source": [
        "print(correlation['HeartDisease'].sort_values(ascending=False))"
      ],
      "metadata": {
        "colab": {
          "base_uri": "https://localhost:8080/"
        },
        "id": "G94EDPmyYpk-",
        "outputId": "31197afc-2027-4cef-e074-ec57d873548d",
        "execution": {
          "iopub.status.busy": "2024-08-02T12:37:42.380688Z",
          "iopub.status.idle": "2024-08-02T12:37:42.381149Z",
          "shell.execute_reply.started": "2024-08-02T12:37:42.380908Z",
          "shell.execute_reply": "2024-08-02T12:37:42.380928Z"
        },
        "trusted": true
      },
      "execution_count": 43,
      "outputs": [
        {
          "output_type": "stream",
          "name": "stdout",
          "text": [
            "HeartDisease          1.000000\n",
            "ExerciseAngina_num    0.494282\n",
            "Oldpeak               0.403951\n",
            "Sex_num               0.305445\n",
            "Age                   0.282039\n",
            "FastingBS             0.267291\n",
            "RestingBP             0.107589\n",
            "RestingECG_num        0.057384\n",
            "Cholesterol          -0.232741\n",
            "Chestpaintype_num    -0.386828\n",
            "MaxHR                -0.400421\n",
            "ST_Slope_num         -0.558771\n",
            "Name: HeartDisease, dtype: float64\n"
          ]
        }
      ]
    },
    {
      "cell_type": "code",
      "source": [
        "\n",
        "# Plotting heatmap\n",
        "plt.figure(figsize=(8, 8))\n",
        "sns.heatmap(correlation, annot=True, cmap='coolwarm', fmt=\".2f\", linewidths=.5)\n",
        "plt.title(\"Correlation Heatmap\")\n",
        "plt.show()\n"
      ],
      "metadata": {
        "colab": {
          "base_uri": "https://localhost:8080/",
          "height": 829
        },
        "id": "fMrkaG_1Ypk_",
        "outputId": "5f62c726-9e8c-4b65-a469-75b609e4b6fc",
        "scrolled": true,
        "execution": {
          "iopub.status.busy": "2024-08-02T12:37:42.382759Z",
          "iopub.status.idle": "2024-08-02T12:37:42.383107Z",
          "shell.execute_reply.started": "2024-08-02T12:37:42.382937Z",
          "shell.execute_reply": "2024-08-02T12:37:42.382951Z"
        },
        "trusted": true
      },
      "execution_count": 44,
      "outputs": [
        {
          "output_type": "display_data",
          "data": {
            "text/plain": [
              "<Figure size 800x800 with 2 Axes>"
            ],
            "image/png": "[encoded data removed]"
          },
          "metadata": {}
        }
      ]
    },
    {
      "cell_type": "code",
      "source": [
        "#Imporatant Features\n",
        "from sklearn.ensemble import ExtraTreesClassifier\n",
        "corr=ExtraTreesClassifier()\n",
        "corr.fit(X,Y)\n",
        "feature_importance=pd.Series(corr.feature_importances_,index=X.columns)\n",
        "feature_importance.sort_values(ascending=True).plot(kind='barh')"
      ],
      "metadata": {
        "colab": {
          "base_uri": "https://localhost:8080/",
          "height": 448
        },
        "id": "Q7G5IEG-Ypk_",
        "outputId": "a74c7d36-15f6-446a-88a3-760074b7cb32",
        "execution": {
          "iopub.status.busy": "2024-08-02T12:37:42.384516Z",
          "iopub.status.idle": "2024-08-02T12:37:42.384837Z",
          "shell.execute_reply.started": "2024-08-02T12:37:42.384677Z",
          "shell.execute_reply": "2024-08-02T12:37:42.384691Z"
        },
        "trusted": true
      },
      "execution_count": 45,
      "outputs": [
        {
          "output_type": "execute_result",
          "data": {
            "text/plain": [
              "<Axes: >"
            ]
          },
          "metadata": {},
          "execution_count": 45
        },
        {
          "output_type": "display_data",
          "data": {
            "text/plain": [
              "<Figure size 640x480 with 1 Axes>"
            ],
            "image/png": "[encoded data removed]"
          },
          "metadata": {}
        }
      ]
    },
    {
      "cell_type": "code",
      "source": [
        "# @title Feature Scaling\n",
        "scaler=StandardScaler()"
      ],
      "metadata": {
        "id": "R2fq7BfVTEqf",
        "execution": {
          "iopub.status.busy": "2024-08-02T12:37:42.386184Z",
          "iopub.status.idle": "2024-08-02T12:37:42.386605Z",
          "shell.execute_reply.started": "2024-08-02T12:37:42.386420Z",
          "shell.execute_reply": "2024-08-02T12:37:42.386436Z"
        },
        "trusted": true
      },
      "execution_count": 46,
      "outputs": []
    },
    {
      "cell_type": "code",
      "source": [
        "X_standard=scaler.fit_transform(X)"
      ],
      "metadata": {
        "id": "SnwksaztUWC8",
        "execution": {
          "iopub.status.busy": "2024-08-02T12:37:42.388110Z",
          "iopub.status.idle": "2024-08-02T12:37:42.388509Z",
          "shell.execute_reply.started": "2024-08-02T12:37:42.388317Z",
          "shell.execute_reply": "2024-08-02T12:37:42.388333Z"
        },
        "trusted": true
      },
      "execution_count": 47,
      "outputs": []
    },
    {
      "cell_type": "code",
      "source": [
        "#print(X_standard)\n",
        "print(X_standard[:5, :])"
      ],
      "metadata": {
        "colab": {
          "base_uri": "https://localhost:8080/"
        },
        "id": "E1UXB4KCUhU_",
        "outputId": "ee55ff20-d2d7-4b2c-9305-323bfab14df6",
        "scrolled": true,
        "execution": {
          "iopub.status.busy": "2024-08-02T12:37:42.390692Z",
          "iopub.status.idle": "2024-08-02T12:37:42.391074Z",
          "shell.execute_reply.started": "2024-08-02T12:37:42.390894Z",
          "shell.execute_reply": "2024-08-02T12:37:42.390910Z"
        },
        "trusted": true
      },
      "execution_count": 48,
      "outputs": [
        {
          "output_type": "stream",
          "name": "stdout",
          "text": [
            "[[-1.4331398   0.41090889  0.82507026 -0.55134134  1.38292822 -0.83243239\n",
            "   0.22903206  0.51595242  0.01725451 -0.8235563   1.05211381]\n",
            " [-0.47848359  1.49175234 -0.17196105 -0.55134134  0.75415714  0.10566353\n",
            "   1.27505906 -1.93816322  0.01725451 -0.8235563  -0.59607813]\n",
            " [-1.75135854 -0.12951283  0.7701878  -0.55134134 -1.52513802 -0.83243239\n",
            "   0.22903206  0.51595242  1.60121899 -0.8235563   1.05211381]\n",
            " [-0.5845565   0.30282455  0.13903954 -0.55134134 -1.13215609  0.57471149\n",
            "  -0.81699495 -1.93816322  0.01725451  1.21424608 -0.59607813]\n",
            " [ 0.05188098  0.95133062 -0.0347549  -0.55134134 -0.5819814  -0.83243239\n",
            "   1.27505906  0.51595242  0.01725451 -0.8235563   1.05211381]]\n"
          ]
        }
      ]
    },
    {
      "cell_type": "code",
      "source": [
        "# @title Test and Train splitting\n",
        "X_train,X_test,Y_train,Y_test=train_test_split(X_standard,Y,test_size=0.2,random_state=2)"
      ],
      "metadata": {
        "id": "k2CAcrM-U1jr",
        "execution": {
          "iopub.status.busy": "2024-08-02T12:37:42.392102Z",
          "iopub.status.idle": "2024-08-02T12:37:42.392501Z",
          "shell.execute_reply.started": "2024-08-02T12:37:42.392308Z",
          "shell.execute_reply": "2024-08-02T12:37:42.392325Z"
        },
        "trusted": true
      },
      "execution_count": 49,
      "outputs": []
    },
    {
      "cell_type": "code",
      "source": [
        "print(X_standard.shape,X_train.shape,X_test.shape)"
      ],
      "metadata": {
        "colab": {
          "base_uri": "https://localhost:8080/"
        },
        "id": "-at5C6AmWInA",
        "outputId": "4784d5f2-a779-40ce-9b82-406144021f4c",
        "execution": {
          "iopub.status.busy": "2024-08-02T12:37:42.394523Z",
          "iopub.status.idle": "2024-08-02T12:37:42.394877Z",
          "shell.execute_reply.started": "2024-08-02T12:37:42.394719Z",
          "shell.execute_reply": "2024-08-02T12:37:42.394732Z"
        },
        "trusted": true
      },
      "execution_count": 50,
      "outputs": [
        {
          "output_type": "stream",
          "name": "stdout",
          "text": [
            "(918, 11) (734, 11) (184, 11)\n"
          ]
        }
      ]
    },
    {
      "cell_type": "code",
      "source": [
        "def train_model(X_train, y_train, X_test, y_test, classifier, **kwargs):\n",
        "\n",
        "    \"\"\"\n",
        "    Fit the chosen model and print out the score.\n",
        "\n",
        "    \"\"\"\n",
        "\n",
        "    # instantiate model\n",
        "    model = classifier(**kwargs)\n",
        "\n",
        "    # train model\n",
        "    model.fit(X_train,y_train)\n",
        "\n",
        "    # check accuracy and print out the results\n",
        "    fit_accuracy = model.score(X_train, y_train)\n",
        "    test_accuracy = model.score(X_test, y_test)\n",
        "\n",
        "    print(f\"Train accuracy: {fit_accuracy:0.2%}\")\n",
        "    print(f\"Test accuracy: {test_accuracy:0.2%}\")\n",
        "\n",
        "    return model\n"
      ],
      "metadata": {
        "id": "TvcWqQmpYplA",
        "execution": {
          "iopub.status.busy": "2024-08-02T12:37:42.398038Z",
          "iopub.status.idle": "2024-08-02T12:37:42.398803Z",
          "shell.execute_reply.started": "2024-08-02T12:37:42.398548Z",
          "shell.execute_reply": "2024-08-02T12:37:42.398569Z"
        },
        "trusted": true
      },
      "execution_count": 51,
      "outputs": []
    },
    {
      "cell_type": "markdown",
      "source": [
        "# K-Fold cross validation function"
      ],
      "metadata": {
        "id": "QnGX4D7ZxfXi"
      }
    },
    {
      "cell_type": "code",
      "source": [
        "# K-Fold Cross-Validation\n",
        "from sklearn.model_selection import cross_validate\n",
        "def cross_validation(model, _X, _y, _cv=5):\n",
        "      _scoring = ['accuracy', 'precision', 'recall', 'f1']\n",
        "\n",
        "      results = cross_validate(estimator=model,\n",
        "                               X=_X,\n",
        "                               y=_y,\n",
        "                               cv=_cv,\n",
        "                               scoring=_scoring,\n",
        "                               return_train_score=True)\n",
        "\n",
        "      return {\"Training Accuracy scores\": results['train_accuracy'],\n",
        "              \"Mean Training Accuracy\": results['train_accuracy'].mean()*100,\n",
        "              \"Training Precision scores\": results['train_precision'],\n",
        "              \"Mean Training Precision\": results['train_precision'].mean(),\n",
        "              \"Training Recall scores\": results['train_recall'],\n",
        "              \"Mean Training Recall\": results['train_recall'].mean(),\n",
        "              \"Training F1 scores\": results['train_f1'],\n",
        "              \"Mean Training F1 Score\": results['train_f1'].mean(),\n",
        "              \"Validation Accuracy scores\": results['test_accuracy'],\n",
        "              \"Mean Validation Accuracy\": results['test_accuracy'].mean()*100,\n",
        "              \"Validation Precision scores\": results['test_precision'],\n",
        "              \"Mean Validation Precision\": results['test_precision'].mean(),\n",
        "              \"Validation Recall scores\": results['test_recall'],\n",
        "              \"Mean Validation Recall\": results['test_recall'].mean(),\n",
        "              \"Validation F1 scores\": results['test_f1'],\n",
        "              \"Mean Validation F1 Score\": results['test_f1'].mean()\n",
        "              }"
      ],
      "metadata": {
        "id": "FI4LRj9_xfXj",
        "execution": {
          "iopub.status.busy": "2024-08-02T12:37:42.400113Z",
          "iopub.status.idle": "2024-08-02T12:37:42.400597Z",
          "shell.execute_reply.started": "2024-08-02T12:37:42.400349Z",
          "shell.execute_reply": "2024-08-02T12:37:42.400369Z"
        },
        "trusted": true
      },
      "execution_count": 52,
      "outputs": []
    },
    {
      "cell_type": "markdown",
      "source": [
        "# Logictic Regression"
      ],
      "metadata": {
        "id": "fH0xCe6xYplB"
      }
    },
    {
      "cell_type": "code",
      "source": [
        "\n",
        "from sklearn.linear_model import LogisticRegression\n",
        "logreg = LogisticRegression()\n",
        "\n",
        "logreg.fit(X_train, Y_train)\n",
        "\n",
        "y_pred_lr = logreg.predict(X_test)\n",
        "print(y_pred_lr)"
      ],
      "metadata": {
        "colab": {
          "base_uri": "https://localhost:8080/"
        },
        "id": "Vp1rfK4_YplB",
        "outputId": "9e5e575f-865d-4816-adc9-5a50092b4fb2",
        "execution": {
          "iopub.status.busy": "2024-08-02T12:37:42.402618Z",
          "iopub.status.idle": "2024-08-02T12:37:42.403402Z",
          "shell.execute_reply.started": "2024-08-02T12:37:42.403114Z",
          "shell.execute_reply": "2024-08-02T12:37:42.403136Z"
        },
        "trusted": true
      },
      "execution_count": 53,
      "outputs": [
        {
          "output_type": "stream",
          "name": "stdout",
          "text": [
            "[0 1 1 0 1 1 0 1 0 1 1 0 1 0 1 1 0 1 1 1 0 1 0 1 1 0 1 0 0 1 1 1 0 1 0 0 0\n",
            " 0 1 0 1 1 1 1 1 1 1 0 0 0 0 0 0 1 0 1 1 0 0 0 1 0 1 0 1 0 0 0 0 1 1 1 1 1\n",
            " 0 1 0 1 0 0 1 0 1 1 1 1 1 1 0 0 0 1 0 0 0 0 1 1 1 0 0 1 0 0 1 1 1 1 1 1 1\n",
            " 0 0 1 0 1 0 1 1 1 0 0 0 1 0 1 0 1 1 1 1 0 0 0 0 0 0 0 0 1 1 1 1 0 0 1 1 1\n",
            " 1 1 0 0 1 0 0 1 0 0 1 1 0 0 1 1 1 1 0 0 0 1 1 1 1 0 1 1 0 1 1 0 1 1 1 0]\n"
          ]
        }
      ]
    },
    {
      "cell_type": "code",
      "source": [
        "\n",
        "'''from sklearn.metrics import accuracy_score\n",
        "score_lr = round(accuracy_score(y_pred_lr,Y_test)*100,2)\n",
        "\n",
        "print(\"The accuracy score achieved using Logistic Regression is: \"+str(score_lr)+\" %\")'''"
      ],
      "metadata": {
        "colab": {
          "base_uri": "https://localhost:8080/",
          "height": 53
        },
        "id": "to6h8ltLYplB",
        "outputId": "166d2a35-59a7-4e98-9bec-c7f6a9046557",
        "execution": {
          "iopub.status.busy": "2024-08-02T12:37:42.404603Z",
          "iopub.status.idle": "2024-08-02T12:37:42.405084Z",
          "shell.execute_reply.started": "2024-08-02T12:37:42.404826Z",
          "shell.execute_reply": "2024-08-02T12:37:42.404845Z"
        },
        "trusted": true
      },
      "execution_count": 54,
      "outputs": [
        {
          "output_type": "execute_result",
          "data": {
            "text/plain": [
              "'from sklearn.metrics import accuracy_score\\nscore_lr = round(accuracy_score(y_pred_lr,Y_test)*100,2)\\n\\nprint(\"The accuracy score achieved using Logistic Regression is: \"+str(score_lr)+\" %\")'"
            ],
            "application/vnd.google.colaboratory.intrinsic+json": {
              "type": "string"
            }
          },
          "metadata": {},
          "execution_count": 54
        }
      ]
    },
    {
      "cell_type": "code",
      "source": [
        "# Logistic Regression\n",
        "from sklearn.linear_model import LogisticRegression\n",
        "LR_model = train_model(X_train, Y_train, X_test, Y_test, LogisticRegression)\n",
        "with open('logistic_regression_model.pkl', 'wb') as file:\n",
        "    pickle.dump(LR_model, file)\n",
        "\n",
        "print(\"Model saved to 'logistic_regression_model.pkl'\")\n"
      ],
      "metadata": {
        "colab": {
          "base_uri": "https://localhost:8080/"
        },
        "id": "pjQje4nGYplB",
        "outputId": "59d863e8-ea2d-4ef3-9803-16c83e88e301",
        "execution": {
          "iopub.status.busy": "2024-08-02T12:37:42.406911Z",
          "iopub.status.idle": "2024-08-02T12:37:42.407504Z",
          "shell.execute_reply.started": "2024-08-02T12:37:42.407120Z",
          "shell.execute_reply": "2024-08-02T12:37:42.407136Z"
        },
        "trusted": true
      },
      "execution_count": 55,
      "outputs": [
        {
          "output_type": "stream",
          "name": "stdout",
          "text": [
            "Train accuracy: 86.10%\n",
            "Test accuracy: 84.24%\n",
            "Model saved to 'logistic_regression_model.pkl'\n"
          ]
        }
      ]
    },
    {
      "cell_type": "code",
      "source": [
        "\n",
        "from sklearn.metrics import confusion_matrix\n",
        "\n",
        "\n",
        "matrix= confusion_matrix(Y_test, y_pred_lr)\n",
        "\n",
        "\n",
        "sns.heatmap(matrix,annot = True, fmt = \"d\")\n"
      ],
      "metadata": {
        "colab": {
          "base_uri": "https://localhost:8080/",
          "height": 448
        },
        "id": "vfsf2NpoYplC",
        "outputId": "973fb062-bc5a-44e5-daf5-6dce73a95a78",
        "execution": {
          "iopub.status.busy": "2024-08-02T12:37:42.408488Z",
          "iopub.status.idle": "2024-08-02T12:37:42.408834Z",
          "shell.execute_reply.started": "2024-08-02T12:37:42.408664Z",
          "shell.execute_reply": "2024-08-02T12:37:42.408678Z"
        },
        "trusted": true
      },
      "execution_count": 56,
      "outputs": [
        {
          "output_type": "execute_result",
          "data": {
            "text/plain": [
              "<Axes: >"
            ]
          },
          "metadata": {},
          "execution_count": 56
        },
        {
          "output_type": "display_data",
          "data": {
            "text/plain": [
              "<Figure size 640x480 with 2 Axes>"
            ],
            "image/png": "[encoded data removed]"
          },
          "metadata": {}
        }
      ]
    },
    {
      "cell_type": "code",
      "source": [
        "# @title Precision\n",
        "#if we study, keep this here, otherwise remove this and cell below it\n",
        "from sklearn.metrics import precision_score\n",
        "\n",
        "\n",
        "precision = precision_score(Y_test, y_pred_lr)\n",
        "\n",
        "\n",
        "print(\"Precision: \",precision)"
      ],
      "metadata": {
        "colab": {
          "base_uri": "https://localhost:8080/"
        },
        "id": "IK4Z7X_JYplC",
        "outputId": "b3763d1d-219e-4f10-9904-79bf91ff13ec",
        "execution": {
          "iopub.status.busy": "2024-08-02T12:37:42.410831Z",
          "iopub.status.idle": "2024-08-02T12:37:42.411210Z",
          "shell.execute_reply.started": "2024-08-02T12:37:42.411023Z",
          "shell.execute_reply": "2024-08-02T12:37:42.411040Z"
        },
        "trusted": true
      },
      "execution_count": 57,
      "outputs": [
        {
          "output_type": "stream",
          "name": "stdout",
          "text": [
            "Precision:  0.83\n"
          ]
        }
      ]
    },
    {
      "cell_type": "code",
      "source": [
        "# @title Recall\n",
        "from sklearn.metrics import recall_score\n",
        "\n",
        "\n",
        "recall = recall_score(Y_test, y_pred_lr)\n",
        "\n",
        "\n",
        "print(\"Recall is: \",recall)"
      ],
      "metadata": {
        "colab": {
          "base_uri": "https://localhost:8080/"
        },
        "id": "eXVoaFmcYplC",
        "outputId": "42a6dab5-95e5-408a-bba4-a8533d304e2b",
        "execution": {
          "iopub.status.busy": "2024-08-02T12:37:42.413166Z",
          "iopub.status.idle": "2024-08-02T12:37:42.413567Z",
          "shell.execute_reply.started": "2024-08-02T12:37:42.413386Z",
          "shell.execute_reply": "2024-08-02T12:37:42.413401Z"
        },
        "trusted": true
      },
      "execution_count": 58,
      "outputs": [
        {
          "output_type": "stream",
          "name": "stdout",
          "text": [
            "Recall is:  0.8736842105263158\n"
          ]
        }
      ]
    },
    {
      "cell_type": "code",
      "source": [
        "# @title F-Score\n",
        "print((2*precision*recall)/(precision+recall))"
      ],
      "metadata": {
        "colab": {
          "base_uri": "https://localhost:8080/"
        },
        "id": "wBXDV9HllPak",
        "outputId": "c0a31ed3-07ae-4a69-ebd8-64775b7f51f4",
        "execution": {
          "iopub.status.busy": "2024-08-02T12:37:42.414835Z",
          "iopub.status.idle": "2024-08-02T12:37:42.415189Z",
          "shell.execute_reply.started": "2024-08-02T12:37:42.415010Z",
          "shell.execute_reply": "2024-08-02T12:37:42.415025Z"
        },
        "trusted": true
      },
      "execution_count": 59,
      "outputs": [
        {
          "output_type": "stream",
          "name": "stdout",
          "text": [
            "0.8512820512820513\n"
          ]
        }
      ]
    },
    {
      "cell_type": "code",
      "source": [
        "from sklearn.model_selection import cross_val_score\n",
        "from sklearn.linear_model import LogisticRegression\n",
        "from sklearn.preprocessing import StandardScaler\n",
        "\n",
        "# Assuming X_standard is your entire feature dataset and y is your target variable\n",
        "\n",
        "# Create a classifier (e.g., Logistic Regression)\n",
        "classifier = LogisticRegression()\n",
        "\n",
        "# Perform k-fold cross-validation\n",
        "# You can change the number of folds by adjusting the cv parameter\n",
        "scores = cross_val_score(classifier, X_standard, Y, cv=10)\n",
        "\n",
        "# Print the cross-validated scores\n",
        "print(\"Cross-validated scores:\", scores)\n",
        "\n",
        "# Print the mean and standard deviation of the scores\n",
        "print(\"Mean accuracy:\", scores.mean()*100)\n",
        "print(\"Standard deviation:\", scores.std())"
      ],
      "metadata": {
        "colab": {
          "base_uri": "https://localhost:8080/"
        },
        "id": "ri_JxWnQowuJ",
        "outputId": "d2b1a055-d05a-47a2-c5df-63b47c179078",
        "execution": {
          "iopub.status.busy": "2024-08-02T12:37:42.416049Z",
          "iopub.status.idle": "2024-08-02T12:37:42.416421Z",
          "shell.execute_reply.started": "2024-08-02T12:37:42.416217Z",
          "shell.execute_reply": "2024-08-02T12:37:42.416253Z"
        },
        "trusted": true
      },
      "execution_count": 60,
      "outputs": [
        {
          "output_type": "stream",
          "name": "stdout",
          "text": [
            "Cross-validated scores: [0.79347826 0.88043478 0.86956522 0.88043478 0.86956522 0.82608696\n",
            " 0.85869565 0.7826087  0.75824176 0.79120879]\n",
            "Mean accuracy: 83.1032011466794\n",
            "Standard deviation: 0.04390902598658434\n"
          ]
        }
      ]
    },
    {
      "cell_type": "code",
      "source": [
        "'''#cross validation\n",
        "lr_model = LogisticRegression()\n",
        "lr_result = cross_validation(lr_model, X_standard, Y, 5)\n",
        "print(lr_result)'''"
      ],
      "metadata": {
        "colab": {
          "base_uri": "https://localhost:8080/",
          "height": 35
        },
        "id": "N6PNNNlNxfXk",
        "outputId": "de2fac65-c350-4c4a-d5db-de69ee7ef25c",
        "execution": {
          "iopub.status.busy": "2024-08-02T12:37:42.418390Z",
          "iopub.status.idle": "2024-08-02T12:37:42.418767Z",
          "shell.execute_reply.started": "2024-08-02T12:37:42.418594Z",
          "shell.execute_reply": "2024-08-02T12:37:42.418609Z"
        },
        "trusted": true
      },
      "execution_count": 61,
      "outputs": [
        {
          "output_type": "execute_result",
          "data": {
            "text/plain": [
              "'#cross validation\\nlr_model = LogisticRegression()\\nlr_result = cross_validation(lr_model, X_standard, Y, 5)\\nprint(lr_result)'"
            ],
            "application/vnd.google.colaboratory.intrinsic+json": {
              "type": "string"
            }
          },
          "metadata": {},
          "execution_count": 61
        }
      ]
    },
    {
      "cell_type": "markdown",
      "source": [
        "# Naive Bayes"
      ],
      "metadata": {
        "id": "XVjvyoB5YplC"
      }
    },
    {
      "cell_type": "code",
      "source": [
        "from sklearn.naive_bayes import GaussianNB\n",
        "nb_model = train_model(X_train, Y_train, X_test, Y_test, GaussianNB)\n",
        "\n",
        "nb_model.fit(X_train, Y_train)\n",
        "\n",
        "y_pred_nb = nb_model.predict(X_test)\n",
        "\n",
        "with open('Naive_model.pkl', 'wb') as file:\n",
        "    pickle.dump(nb_model, file)\n",
        "\n",
        "print(\"Model saved to 'logistic_regression_model.pkl'\")"
      ],
      "metadata": {
        "colab": {
          "base_uri": "https://localhost:8080/"
        },
        "id": "XpJEdLVwYplD",
        "outputId": "78c6b2c7-5a8c-4f6a-aa22-7b98ff56e15b",
        "execution": {
          "iopub.status.busy": "2024-08-02T12:37:42.420536Z",
          "iopub.status.idle": "2024-08-02T12:37:42.420988Z",
          "shell.execute_reply.started": "2024-08-02T12:37:42.420757Z",
          "shell.execute_reply": "2024-08-02T12:37:42.420777Z"
        },
        "trusted": true
      },
      "execution_count": 66,
      "outputs": [
        {
          "output_type": "stream",
          "name": "stdout",
          "text": [
            "Train accuracy: 86.24%\n",
            "Test accuracy: 85.33%\n",
            "Model saved to 'logistic_regression_model.pkl'\n"
          ]
        }
      ]
    },
    {
      "cell_type": "code",
      "source": [
        "\n",
        "'''score_nb = round(accuracy_score(y_pred_nb,Y_test)*100,2)\n",
        "\n",
        "print(\"The accuracy score achieved using Naive Bayes is: \"+str(score_nb)+\" %\")'''"
      ],
      "metadata": {
        "colab": {
          "base_uri": "https://localhost:8080/",
          "height": 35
        },
        "id": "1Z2EsBSNYplD",
        "outputId": "0ed7e04c-47be-401f-adca-5ac53b0016c6",
        "execution": {
          "iopub.status.busy": "2024-08-02T12:37:42.422484Z",
          "iopub.status.idle": "2024-08-02T12:37:42.422936Z",
          "shell.execute_reply.started": "2024-08-02T12:37:42.422701Z",
          "shell.execute_reply": "2024-08-02T12:37:42.422719Z"
        },
        "trusted": true
      },
      "execution_count": 67,
      "outputs": [
        {
          "output_type": "execute_result",
          "data": {
            "text/plain": [
              "'score_nb = round(accuracy_score(y_pred_nb,Y_test)*100,2)\\n\\nprint(\"The accuracy score achieved using Naive Bayes is: \"+str(score_nb)+\" %\")'"
            ],
            "application/vnd.google.colaboratory.intrinsic+json": {
              "type": "string"
            }
          },
          "metadata": {},
          "execution_count": 67
        }
      ]
    },
    {
      "cell_type": "code",
      "source": [
        "from sklearn.metrics import confusion_matrix\n",
        "\n",
        "\n",
        "matrix= confusion_matrix(Y_test, y_pred_nb)\n",
        "\n",
        "\n",
        "sns.heatmap(matrix,annot = True, fmt = \"d\")"
      ],
      "metadata": {
        "colab": {
          "base_uri": "https://localhost:8080/",
          "height": 448
        },
        "id": "GEQhUYyMYplD",
        "outputId": "b08ac20b-4c25-4269-e318-0aa9ae603c2f",
        "execution": {
          "iopub.status.busy": "2024-08-02T12:37:42.424806Z",
          "iopub.status.idle": "2024-08-02T12:37:42.425359Z",
          "shell.execute_reply.started": "2024-08-02T12:37:42.425053Z",
          "shell.execute_reply": "2024-08-02T12:37:42.425075Z"
        },
        "trusted": true
      },
      "execution_count": 68,
      "outputs": [
        {
          "output_type": "execute_result",
          "data": {
            "text/plain": [
              "<Axes: >"
            ]
          },
          "metadata": {},
          "execution_count": 68
        },
        {
          "output_type": "display_data",
          "data": {
            "text/plain": [
              "<Figure size 640x480 with 2 Axes>"
            ],
            "image/png": "[encoded data removed]"
          },
          "metadata": {}
        }
      ]
    },
    {
      "cell_type": "code",
      "source": [
        "# Precision\n",
        "from sklearn.metrics import precision_score\n",
        "\n",
        "\n",
        "precision = precision_score(Y_test, y_pred_nb)\n",
        "\n",
        "\n",
        "print(\"Precision: \",precision)"
      ],
      "metadata": {
        "colab": {
          "base_uri": "https://localhost:8080/"
        },
        "id": "h7CaoiFOYplF",
        "outputId": "8ad347ea-fa65-44f4-a51d-45c4d2d546c9",
        "execution": {
          "iopub.status.busy": "2024-08-02T12:37:42.426871Z",
          "iopub.status.idle": "2024-08-02T12:37:42.427377Z",
          "shell.execute_reply.started": "2024-08-02T12:37:42.427103Z",
          "shell.execute_reply": "2024-08-02T12:37:42.427123Z"
        },
        "trusted": true
      },
      "execution_count": 69,
      "outputs": [
        {
          "output_type": "stream",
          "name": "stdout",
          "text": [
            "Precision:  0.84\n"
          ]
        }
      ]
    },
    {
      "cell_type": "code",
      "source": [
        "# Recall\n",
        "\n",
        "\n",
        "from sklearn.metrics import recall_score\n",
        "\n",
        "\n",
        "recall = recall_score(Y_test, y_pred_nb)\n",
        "\n",
        "\n",
        "print(\"Recall is: \",recall)\n",
        "\n"
      ],
      "metadata": {
        "colab": {
          "base_uri": "https://localhost:8080/"
        },
        "id": "gf-xFY-9krjc",
        "outputId": "cc3c7863-ed70-410d-ae6f-a1ef88299a26",
        "execution": {
          "iopub.status.busy": "2024-08-02T12:37:42.428869Z",
          "iopub.status.idle": "2024-08-02T12:37:42.429339Z",
          "shell.execute_reply.started": "2024-08-02T12:37:42.429083Z",
          "shell.execute_reply": "2024-08-02T12:37:42.429101Z"
        },
        "trusted": true
      },
      "execution_count": 70,
      "outputs": [
        {
          "output_type": "stream",
          "name": "stdout",
          "text": [
            "Recall is:  0.8842105263157894\n"
          ]
        }
      ]
    },
    {
      "cell_type": "code",
      "source": [
        "# F-Score\n",
        "print((2*precision*recall)/(precision+recall))"
      ],
      "metadata": {
        "colab": {
          "base_uri": "https://localhost:8080/"
        },
        "id": "CyrnrQbZkzVk",
        "outputId": "ffa723e6-9196-490d-c037-324154dddcb5",
        "execution": {
          "iopub.status.busy": "2024-08-02T12:37:42.430938Z",
          "iopub.status.idle": "2024-08-02T12:37:42.431488Z",
          "shell.execute_reply.started": "2024-08-02T12:37:42.431200Z",
          "shell.execute_reply": "2024-08-02T12:37:42.431223Z"
        },
        "trusted": true
      },
      "execution_count": 71,
      "outputs": [
        {
          "output_type": "stream",
          "name": "stdout",
          "text": [
            "0.8615384615384616\n"
          ]
        }
      ]
    },
    {
      "cell_type": "code",
      "source": [
        "from sklearn.model_selection import cross_val_score\n",
        "from sklearn.naive_bayes import GaussianNB\n",
        "from sklearn.preprocessing import StandardScaler\n",
        "\n",
        "# Naive Bayes classifier\n",
        "classifier = GaussianNB()\n",
        "\n",
        "# Perform k-fold cross-validation\n",
        "scores = cross_val_score(classifier, X_standard, Y, cv=5)\n",
        "\n",
        "# Print the cross-validated scores\n",
        "print(\"Cross-validated scores:\", scores)\n",
        "\n",
        "# Print the mean and standard deviation of the scores\n",
        "print(\"Mean accuracy:\", scores.mean()*100)\n",
        "print(\"Standard deviation:\", scores.std())"
      ],
      "metadata": {
        "colab": {
          "base_uri": "https://localhost:8080/"
        },
        "id": "ac675hKyqG6i",
        "outputId": "93bcfd55-60e4-4fa0-ca55-aeaa588f24f8",
        "execution": {
          "iopub.status.busy": "2024-08-02T12:37:42.433502Z",
          "iopub.status.idle": "2024-08-02T12:37:42.433954Z",
          "shell.execute_reply.started": "2024-08-02T12:37:42.433720Z",
          "shell.execute_reply": "2024-08-02T12:37:42.433740Z"
        },
        "trusted": true
      },
      "execution_count": 72,
      "outputs": [
        {
          "output_type": "stream",
          "name": "stdout",
          "text": [
            "Cross-validated scores: [0.83152174 0.9076087  0.79891304 0.8579235  0.75956284]\n",
            "Mean accuracy: 83.11059634117368\n",
            "Standard deviation: 0.05045160733661442\n"
          ]
        }
      ]
    },
    {
      "cell_type": "code",
      "source": [
        "'''#cross validation\n",
        "nb_model = GaussianNB()\n",
        "nb_result = cross_validation(nb_model, X_standard, Y, 5)\n",
        "print(nb_result)'''"
      ],
      "metadata": {
        "colab": {
          "base_uri": "https://localhost:8080/",
          "height": 35
        },
        "id": "IXr-hQPSxfXn",
        "outputId": "0efa92bc-ff76-451d-84d5-60c168dd7015",
        "execution": {
          "iopub.status.busy": "2024-08-02T12:37:42.435087Z",
          "iopub.status.idle": "2024-08-02T12:37:42.435599Z",
          "shell.execute_reply.started": "2024-08-02T12:37:42.435340Z",
          "shell.execute_reply": "2024-08-02T12:37:42.435373Z"
        },
        "trusted": true
      },
      "execution_count": 73,
      "outputs": [
        {
          "output_type": "execute_result",
          "data": {
            "text/plain": [
              "'#cross validation\\nnb_model = GaussianNB()\\nnb_result = cross_validation(nb_model, X_standard, Y, 5)\\nprint(nb_result)'"
            ],
            "application/vnd.google.colaboratory.intrinsic+json": {
              "type": "string"
            }
          },
          "metadata": {},
          "execution_count": 73
        }
      ]
    },
    {
      "cell_type": "markdown",
      "source": [
        "# K Nearest Neighbors"
      ],
      "metadata": {
        "id": "Hk6cjD1AxfXn"
      }
    },
    {
      "cell_type": "code",
      "source": [
        "# KNN\n",
        "from sklearn.neighbors import KNeighborsClassifier\n",
        "knn_model = train_model(X_train, Y_train, X_test, Y_test, KNeighborsClassifier, n_neighbors=8)\n",
        "\n",
        "knn_model.fit(X_train, Y_train)\n",
        "\n",
        "\n",
        "y_pred_knn = knn_model.predict(X_test)\n",
        "\n",
        "with open('KNN_model.pkl', 'wb') as file:\n",
        "    pickle.dump(knn_model, file)\n",
        "\n",
        "print(\"Model saved to 'logistic_regression_model.pkl'\")\n"
      ],
      "metadata": {
        "colab": {
          "base_uri": "https://localhost:8080/"
        },
        "id": "numvAM1UiSX9",
        "outputId": "17976d58-0c78-49ad-c693-e6ddc3d8e50e",
        "execution": {
          "iopub.status.busy": "2024-08-02T12:37:42.437127Z",
          "iopub.status.idle": "2024-08-02T12:37:42.437536Z",
          "shell.execute_reply.started": "2024-08-02T12:37:42.437344Z",
          "shell.execute_reply": "2024-08-02T12:37:42.437361Z"
        },
        "trusted": true
      },
      "execution_count": 77,
      "outputs": [
        {
          "output_type": "stream",
          "name": "stdout",
          "text": [
            "Train accuracy: 87.60%\n",
            "Test accuracy: 86.96%\n",
            "Model saved to 'logistic_regression_model.pkl'\n"
          ]
        }
      ]
    },
    {
      "cell_type": "code",
      "source": [
        "'''score_knn = round(accuracy_score(y_pred_knn,Y_test)*100,2)\n",
        "\n",
        "print(\"The accuracy score achieved using KNN is: \"+str(score_knn)+\" %\")'''"
      ],
      "metadata": {
        "colab": {
          "base_uri": "https://localhost:8080/",
          "height": 35
        },
        "id": "2Jsx3YAMirpa",
        "outputId": "fe81f135-7f18-49d4-a36b-3782093bed10",
        "execution": {
          "iopub.status.busy": "2024-08-02T12:37:42.438636Z",
          "iopub.status.idle": "2024-08-02T12:37:42.438946Z",
          "shell.execute_reply.started": "2024-08-02T12:37:42.438788Z",
          "shell.execute_reply": "2024-08-02T12:37:42.438801Z"
        },
        "trusted": true
      },
      "execution_count": 75,
      "outputs": [
        {
          "output_type": "execute_result",
          "data": {
            "text/plain": [
              "'score_knn = round(accuracy_score(y_pred_knn,Y_test)*100,2)\\n\\nprint(\"The accuracy score achieved using KNN is: \"+str(score_knn)+\" %\")'"
            ],
            "application/vnd.google.colaboratory.intrinsic+json": {
              "type": "string"
            }
          },
          "metadata": {},
          "execution_count": 75
        }
      ]
    },
    {
      "cell_type": "code",
      "source": [
        "# Confusuion matrix for KNN\n",
        "\n",
        "\n",
        "from sklearn.metrics import confusion_matrix\n",
        "\n",
        "\n",
        "matrix= confusion_matrix(Y_test, y_pred_knn)\n",
        "\n",
        "\n",
        "sns.heatmap(matrix,annot = True, fmt = \"d\")\n",
        "\n"
      ],
      "metadata": {
        "colab": {
          "base_uri": "https://localhost:8080/",
          "height": 448
        },
        "id": "DdsdkQ1Xi5hl",
        "outputId": "cdf62fa6-cca5-4149-a8f5-42c4052596dc",
        "execution": {
          "iopub.status.busy": "2024-08-02T12:37:42.440324Z",
          "iopub.status.idle": "2024-08-02T12:37:42.440736Z",
          "shell.execute_reply.started": "2024-08-02T12:37:42.440510Z",
          "shell.execute_reply": "2024-08-02T12:37:42.440525Z"
        },
        "trusted": true
      },
      "execution_count": 78,
      "outputs": [
        {
          "output_type": "execute_result",
          "data": {
            "text/plain": [
              "<Axes: >"
            ]
          },
          "metadata": {},
          "execution_count": 78
        },
        {
          "output_type": "display_data",
          "data": {
            "text/plain": [
              "<Figure size 640x480 with 2 Axes>"
            ],
            "image/png": "[encoded data removed]"
          },
          "metadata": {}
        }
      ]
    },
    {
      "cell_type": "code",
      "source": [
        "# @title Precision\n",
        "from sklearn.metrics import precision_score\n",
        "\n",
        "\n",
        "precision = precision_score(Y_test, y_pred_knn)\n",
        "\n",
        "\n",
        "print(\"Precision: \",precision)\n"
      ],
      "metadata": {
        "colab": {
          "base_uri": "https://localhost:8080/"
        },
        "id": "isjolu4ljNxW",
        "outputId": "43715ec3-8cd7-45db-d58c-0a4325ec4f0c",
        "execution": {
          "iopub.status.busy": "2024-08-02T12:37:42.441695Z",
          "iopub.status.idle": "2024-08-02T12:37:42.442032Z",
          "shell.execute_reply.started": "2024-08-02T12:37:42.441867Z",
          "shell.execute_reply": "2024-08-02T12:37:42.441880Z"
        },
        "trusted": true
      },
      "execution_count": 79,
      "outputs": [
        {
          "output_type": "stream",
          "name": "stdout",
          "text": [
            "Precision:  0.8736842105263158\n"
          ]
        }
      ]
    },
    {
      "cell_type": "code",
      "source": [
        "# Recall\n",
        "\n",
        "\n",
        "from sklearn.metrics import recall_score\n",
        "\n",
        "\n",
        "recall = recall_score(Y_test, y_pred_knn)\n",
        "\n",
        "\n",
        "print(\"Recall is: \",recall)\n",
        "\n"
      ],
      "metadata": {
        "colab": {
          "base_uri": "https://localhost:8080/"
        },
        "id": "bOObk0hzjXx3",
        "outputId": "873301bf-71c8-4593-f176-893aecd0e941",
        "execution": {
          "iopub.status.busy": "2024-08-02T12:37:42.443902Z",
          "iopub.status.idle": "2024-08-02T12:37:42.444216Z",
          "shell.execute_reply.started": "2024-08-02T12:37:42.444059Z",
          "shell.execute_reply": "2024-08-02T12:37:42.444072Z"
        },
        "trusted": true
      },
      "execution_count": 80,
      "outputs": [
        {
          "output_type": "stream",
          "name": "stdout",
          "text": [
            "Recall is:  0.8736842105263158\n"
          ]
        }
      ]
    },
    {
      "cell_type": "code",
      "source": [
        "# F-Score\n",
        "print((2*precision*recall)/(precision+recall))"
      ],
      "metadata": {
        "colab": {
          "base_uri": "https://localhost:8080/"
        },
        "id": "XZTX8eHDjbjJ",
        "outputId": "447daddc-f6e2-4b1d-c939-366a5e05c64c",
        "execution": {
          "iopub.status.busy": "2024-08-02T12:37:42.445465Z",
          "iopub.status.idle": "2024-08-02T12:37:42.445827Z",
          "shell.execute_reply.started": "2024-08-02T12:37:42.445650Z",
          "shell.execute_reply": "2024-08-02T12:37:42.445666Z"
        },
        "trusted": true
      },
      "execution_count": 81,
      "outputs": [
        {
          "output_type": "stream",
          "name": "stdout",
          "text": [
            "0.8736842105263158\n"
          ]
        }
      ]
    },
    {
      "cell_type": "code",
      "source": [
        "from sklearn.model_selection import cross_val_score\n",
        "from sklearn.neighbors import KNeighborsClassifier\n",
        "from sklearn.preprocessing import StandardScaler\n",
        "\n",
        "# Create a KNeighborsClassifier\n",
        "classifier = KNeighborsClassifier(n_neighbors=8)\n",
        "# Perform k-fold cross-validation\n",
        "scores = cross_val_score(classifier, X_standard, Y, cv=5)\n",
        "\n",
        "# Print the cross-validated scores\n",
        "print(\"Cross-validated scores:\", scores)\n",
        "\n",
        "# Print the mean and standard deviation of the scores\n",
        "print(\"Mean accuracy:\", scores.mean()*100)\n",
        "print(\"Standard deviation:\", scores.std())\n",
        "'''df = pd.DataFrame(X_standard)\n",
        "df.shape'''"
      ],
      "metadata": {
        "colab": {
          "base_uri": "https://localhost:8080/",
          "height": 89
        },
        "id": "dWsT77lxqmL6",
        "outputId": "ca3aab11-da3e-4b2c-e828-36465394f6e2",
        "execution": {
          "iopub.status.busy": "2024-08-02T12:37:42.447498Z",
          "iopub.status.idle": "2024-08-02T12:37:42.447915Z",
          "shell.execute_reply.started": "2024-08-02T12:37:42.447684Z",
          "shell.execute_reply": "2024-08-02T12:37:42.447700Z"
        },
        "trusted": true
      },
      "execution_count": 82,
      "outputs": [
        {
          "output_type": "stream",
          "name": "stdout",
          "text": [
            "Cross-validated scores: [0.78804348 0.83152174 0.86956522 0.82513661 0.76502732]\n",
            "Mean accuracy: 81.58588738417676\n",
            "Standard deviation: 0.03625828447432281\n"
          ]
        },
        {
          "output_type": "execute_result",
          "data": {
            "text/plain": [
              "'df = pd.DataFrame(X_standard)\\ndf.shape'"
            ],
            "application/vnd.google.colaboratory.intrinsic+json": {
              "type": "string"
            }
          },
          "metadata": {},
          "execution_count": 82
        }
      ]
    },
    {
      "cell_type": "code",
      "source": [
        "'''#cross validation\n",
        "knn_model = KNeighborsClassifier()\n",
        "knn_result = cross_validation(knn_model, X_standard, Y, 5)\n",
        "print(knn_result)'''"
      ],
      "metadata": {
        "colab": {
          "base_uri": "https://localhost:8080/",
          "height": 35
        },
        "id": "MQ0zl_GhxfXp",
        "outputId": "9373f778-229e-47c1-b4ab-c01e3212bcc8",
        "execution": {
          "iopub.status.busy": "2024-08-02T12:37:42.449440Z",
          "iopub.status.idle": "2024-08-02T12:37:42.449804Z",
          "shell.execute_reply.started": "2024-08-02T12:37:42.449635Z",
          "shell.execute_reply": "2024-08-02T12:37:42.449650Z"
        },
        "trusted": true
      },
      "execution_count": 83,
      "outputs": [
        {
          "output_type": "execute_result",
          "data": {
            "text/plain": [
              "'#cross validation\\nknn_model = KNeighborsClassifier()\\nknn_result = cross_validation(knn_model, X_standard, Y, 5)\\nprint(knn_result)'"
            ],
            "application/vnd.google.colaboratory.intrinsic+json": {
              "type": "string"
            }
          },
          "metadata": {},
          "execution_count": 83
        }
      ]
    }
  ]
}